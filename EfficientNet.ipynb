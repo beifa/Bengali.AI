{
  "nbformat": 4,
  "nbformat_minor": 0,
  "metadata": {
    "colab": {
      "name": "EfficientNet.ipynb",
      "provenance": [],
      "collapsed_sections": [],
      "machine_shape": "hm",
      "mount_file_id": "1knlodi2t7BNgGG31cAvek_CdDbOE2sUB",
      "authorship_tag": "ABX9TyPyX2Vfu9nAO6Wzl8XHl4cl",
      "include_colab_link": true
    },
    "kernelspec": {
      "name": "python3",
      "display_name": "Python 3"
    }
  },
  "cells": [
    {
      "cell_type": "markdown",
      "metadata": {
        "id": "view-in-github",
        "colab_type": "text"
      },
      "source": [
        "<a href=\"https://colab.research.google.com/github/beifa/Bengali.AI/blob/master/EfficientNet.ipynb\" target=\"_parent\"><img src=\"https://colab.research.google.com/assets/colab-badge.svg\" alt=\"Open In Colab\"/></a>"
      ]
    },
    {
      "cell_type": "markdown",
      "metadata": {
        "id": "Iu_HtAge7_Y_",
        "colab_type": "text"
      },
      "source": [
        "[Github Tutorial](https://github.com/pytorch/ignite/blob/master/examples/notebooks/EfficientNet_Cifar100_finetuning.ipynb)"
      ]
    },
    {
      "cell_type": "markdown",
      "metadata": {
        "id": "Ixtz9Ae98LwH",
        "colab_type": "text"
      },
      "source": [
        "Network architecture review¶\n",
        "The architecture of EfficientNet-B0 is the following:\n",
        "\n",
        "1 - Stem \n",
        "\n",
        "            - Conv3x3|BN|Swish\n",
        "\n",
        "2 - Blocks \n",
        " - MBConv1, k3x3 \n",
        "            - MBConv6, k3x3 repeated 2 times\n",
        "            - MBConv6, k5x5 repeated 2 times\n",
        "            - MBConv6, k3x3 repeated 3 times\n",
        "            - MBConv6, k5x5 repeated 3 times\n",
        "            - MBConv6, k5x5 repeated 4 times\n",
        "            - MBConv6, k3x3\n",
        "            \n",
        "                                        totally 16 blocks\n",
        "\n",
        "3 - Head    \n",
        "            \n",
        "            - Conv1x1|BN|Swish \n",
        "            - Pooling\n",
        "            - Dropout\n",
        "            - FC\n",
        "where\n",
        "\n",
        "Swish(x) = x * sigmoid(x)\n",
        "and MBConvX stands for mobile inverted bottleneck convolution, X - denotes expansion ratio:\n",
        "\n",
        "MBConv1 : \n",
        "\n",
        "  -> DepthwiseConv|BN|Swish -> SqueezeExcitation -> Conv|BN\n",
        "\n",
        "MBConv6 : \n",
        "\n",
        "  -> Conv|BN|Swish -> DepthwiseConv|BN|Swish -> SqueezeExcitation -> Conv|BN\n",
        "\n",
        "MBConv6+IdentitySkip : \n",
        "\n",
        "  -.-> Conv|BN|Swish -> DepthwiseConv|BN|Swish -> SqueezeExcitation \n",
        "-> Conv|BN-(+)->"
      ]
    },
    {
      "cell_type": "code",
      "metadata": {
        "id": "-f0o28kW9sLZ",
        "colab_type": "code",
        "outputId": "d07103fb-8153-4482-b4e2-86675f52a7d0",
        "colab": {
          "base_uri": "https://localhost:8080/",
          "height": 50
        }
      },
      "source": [
        "!pip install pytorch-ignite"
      ],
      "execution_count": 0,
      "outputs": [
        {
          "output_type": "stream",
          "text": [
            "Requirement already satisfied: pytorch-ignite in /usr/local/lib/python3.6/dist-packages (0.3.0)\n",
            "Requirement already satisfied: torch in /usr/local/lib/python3.6/dist-packages (from pytorch-ignite) (1.4.0)\n"
          ],
          "name": "stdout"
        }
      ]
    },
    {
      "cell_type": "code",
      "metadata": {
        "id": "akEBbViU7VNY",
        "colab_type": "code",
        "outputId": "a8506367-42a1-44ae-a199-f6772682cba7",
        "colab": {
          "base_uri": "https://localhost:8080/",
          "height": 34
        }
      },
      "source": [
        "import random\n",
        "import torch\n",
        "import torch.nn as nn \n",
        "import numpy as np\n",
        "import pandas as pd\n",
        "import matplotlib.pyplot as plt\n",
        "from torch.nn import functional as F\n",
        "from collections import OrderedDict\n",
        "import math\n",
        "%matplotlib inline\n",
        "\n",
        "\n",
        "\n",
        "seed = 13\n",
        "random.seed(seed)\n",
        "_ = torch.manual_seed(seed)\n",
        "\n",
        "torch.__version__"
      ],
      "execution_count": 0,
      "outputs": [
        {
          "output_type": "execute_result",
          "data": {
            "text/plain": [
              "'1.4.0'"
            ]
          },
          "metadata": {
            "tags": []
          },
          "execution_count": 1
        }
      ]
    },
    {
      "cell_type": "markdown",
      "metadata": {
        "id": "lDx2liyO966N",
        "colab_type": "text"
      },
      "source": [
        "# Model"
      ]
    },
    {
      "cell_type": "markdown",
      "metadata": {
        "id": "A-2YUwqK993d",
        "colab_type": "text"
      },
      "source": [
        "## Help modules"
      ]
    },
    {
      "cell_type": "code",
      "metadata": {
        "id": "C-vENIN090q7",
        "colab_type": "code",
        "colab": {}
      },
      "source": [
        "class Swish(nn.Module):\n",
        "\n",
        "  def forward(self, x):\n",
        "    return x * torch.sigmoid(x)\n",
        "\n",
        "class Flatten(nn.Module):\n",
        "  \n",
        "  def forward(self, x):\n",
        "    return x.reshape(x.shape[0], -1)"
      ],
      "execution_count": 0,
      "outputs": []
    },
    {
      "cell_type": "code",
      "metadata": {
        "id": "iRArLiL9-6JB",
        "colab_type": "code",
        "outputId": "3adad48a-25fe-465c-ce1b-e17dc5ac6d97",
        "colab": {
          "base_uri": "https://localhost:8080/",
          "height": 298
        }
      },
      "source": [
        "d = torch.linspace(-10.0, 10.0)\n",
        "s = Swish()\n",
        "res = s(d)\n",
        "res2 = torch.relu(d)\n",
        "\n",
        "plt.title(\"Swish transformation\")\n",
        "plt.plot(d.numpy(), res.numpy(), label='Swish')\n",
        "plt.plot(d.numpy(), res2.numpy(), label='ReLU')\n",
        "plt.legend()"
      ],
      "execution_count": 0,
      "outputs": [
        {
          "output_type": "execute_result",
          "data": {
            "text/plain": [
              "<matplotlib.legend.Legend at 0x7f034428fcf8>"
            ]
          },
          "metadata": {
            "tags": []
          },
          "execution_count": 9
        },
        {
          "output_type": "display_data",
          "data": {
            "image/png": "[encoded data removed]",
            "text/plain": [
              "<Figure size 432x288 with 1 Axes>"
            ]
          },
          "metadata": {
            "tags": []
          }
        }
      ]
    },
    {
      "cell_type": "markdown",
      "metadata": {
        "id": "WwWk3Q4bADc2",
        "colab_type": "text"
      },
      "source": [
        "## Model"
      ]
    },
    {
      "cell_type": "code",
      "metadata": {
        "id": "AybsPjqA-6jg",
        "colab_type": "code",
        "colab": {}
      },
      "source": [
        "class SqueezeExcitation(nn.Module):\n",
        "    \n",
        "  def __init__(self, inplanes, se_planes):\n",
        "    super(SqueezeExcitation, self).__init__()\n",
        "    self.reduce_expand = nn.Sequential(\n",
        "      nn.Conv2d(inplanes, se_planes, \n",
        "                kernel_size=1, stride=1, padding=0, bias=True),\n",
        "      Swish(),\n",
        "      nn.Conv2d(se_planes, inplanes, \n",
        "                kernel_size=1, stride=1, padding=0, bias=True),\n",
        "      nn.Sigmoid()\n",
        "      )\n",
        "\n",
        "  def forward(self, x):\n",
        "    x_se = torch.mean(x, dim=(-2, -1), keepdim=True)\n",
        "    x_se = self.reduce_expand(x_se)\n",
        "    return x_se * x\n",
        "\n",
        "\n",
        "\n",
        "\n",
        "class MBConv(nn.Module):\n",
        "\n",
        "  def __init__(self, inplanes, planes, kernel_size, stride, \n",
        "                expand_rate=1.0, se_rate=0.25, \n",
        "                drop_connect_rate=0.2):\n",
        "      super(MBConv, self).__init__()\n",
        "\n",
        "      expand_planes = int(inplanes * expand_rate)\n",
        "      se_planes = max(1, int(inplanes * se_rate))\n",
        "\n",
        "      self.expansion_conv = None        \n",
        "      if expand_rate > 1.0:\n",
        "          self.expansion_conv = nn.Sequential(\n",
        "              nn.Conv2d(inplanes, expand_planes, \n",
        "                        kernel_size=1, stride=1, padding=0, bias=False),\n",
        "              nn.BatchNorm2d(expand_planes, momentum=0.01, eps=1e-3),\n",
        "              Swish()\n",
        "          )\n",
        "          inplanes = expand_planes\n",
        "\n",
        "      self.depthwise_conv = nn.Sequential(\n",
        "          nn.Conv2d(inplanes, expand_planes,\n",
        "                    kernel_size=kernel_size, stride=stride, \n",
        "                    padding=kernel_size // 2, groups=expand_planes,\n",
        "                    bias=False),\n",
        "          nn.BatchNorm2d(expand_planes, momentum=0.01, eps=1e-3),\n",
        "          Swish()\n",
        "      )\n",
        "\n",
        "      self.squeeze_excitation = SqueezeExcitation(expand_planes, se_planes)\n",
        "      \n",
        "      self.project_conv = nn.Sequential(\n",
        "          nn.Conv2d(expand_planes, planes, \n",
        "                    kernel_size=1, stride=1, padding=0, bias=False),\n",
        "          nn.BatchNorm2d(planes, momentum=0.01, eps=1e-3),\n",
        "      )\n",
        "\n",
        "      self.with_skip = stride == 1\n",
        "      self.drop_connect_rate = torch.tensor(drop_connect_rate, requires_grad=False)\n",
        "  \n",
        "  def _drop_connect(self, x):        \n",
        "      keep_prob = 1.0 - self.drop_connect_rate\n",
        "      drop_mask = torch.rand(x.shape[0], 1, 1, 1) + keep_prob\n",
        "      drop_mask = drop_mask.type_as(x)\n",
        "      drop_mask.floor_()\n",
        "      return drop_mask * x / keep_prob\n",
        "      \n",
        "  def forward(self, x):\n",
        "      z = x\n",
        "      if self.expansion_conv is not None:\n",
        "          x = self.expansion_conv(x)\n",
        "\n",
        "      x = self.depthwise_conv(x)\n",
        "      x = self.squeeze_excitation(x)\n",
        "      x = self.project_conv(x)\n",
        "      \n",
        "      # Add identity skip\n",
        "      if x.shape == z.shape and self.with_skip:            \n",
        "          if self.training and self.drop_connect_rate is not None:\n",
        "              self._drop_connect(x)\n",
        "          x += z\n",
        "      return x\n",
        "\n",
        "def init_weights(module):    \n",
        "    if isinstance(module, nn.Conv2d):    \n",
        "        nn.init.kaiming_normal_(module.weight, a=0, mode='fan_out')\n",
        "    elif isinstance(module, nn.Linear):\n",
        "        init_range = 1.0 / math.sqrt(module.weight.shape[1])\n",
        "        nn.init.uniform_(module.weight, a=-init_range, b=init_range)\n",
        "        \n",
        "        \n",
        "class EfficientNet(nn.Module):\n",
        "        \n",
        "  def _setup_repeats(self, num_repeats):\n",
        "      return int(math.ceil(self.depth_coefficient * num_repeats))\n",
        "  \n",
        "  def _setup_channels(self, num_channels):\n",
        "      num_channels *= self.width_coefficient\n",
        "      new_num_channels = math.floor(num_channels / self.divisor + 0.5) * self.divisor\n",
        "      new_num_channels = max(self.divisor, new_num_channels)\n",
        "      if new_num_channels < 0.9 * num_channels:\n",
        "          new_num_channels += self.divisor\n",
        "      return new_num_channels\n",
        "\n",
        "  def __init__(self, num_classes=100, \n",
        "                width_coefficient=1.0,\n",
        "                depth_coefficient=1.0,\n",
        "                se_rate=0.25,\n",
        "                dropout_rate=0.2,\n",
        "                drop_connect_rate=0.2):\n",
        "      super(EfficientNet, self).__init__()\n",
        "      \n",
        "      self.width_coefficient = width_coefficient\n",
        "      self.depth_coefficient = depth_coefficient\n",
        "      self.divisor = 8\n",
        "              \n",
        "      list_channels = [32, 16, 24, 40, 80, 112, 192, 320, 1280]\n",
        "      list_channels = [self._setup_channels(c) for c in list_channels]\n",
        "              \n",
        "      list_num_repeats = [1, 2, 2, 3, 3, 4, 1]\n",
        "      list_num_repeats = [self._setup_repeats(r) for r in list_num_repeats]        \n",
        "      \n",
        "      expand_rates = [1, 6, 6, 6, 6, 6, 6]\n",
        "      strides = [1, 2, 2, 2, 1, 2, 1]\n",
        "      kernel_sizes = [3, 3, 5, 3, 5, 5, 3]\n",
        "\n",
        "      # Define stem:\n",
        "      self.stem = nn.Sequential(\n",
        "          nn.Conv2d(3, list_channels[0], kernel_size=3, stride=2, padding=1, bias=False),\n",
        "          nn.BatchNorm2d(list_channels[0], momentum=0.01, eps=1e-3),\n",
        "          Swish()\n",
        "      )\n",
        "      \n",
        "      # Define MBConv blocks\n",
        "      blocks = []\n",
        "      counter = 0\n",
        "      num_blocks = sum(list_num_repeats)\n",
        "      for idx in range(7):\n",
        "          \n",
        "          num_channels = list_channels[idx]\n",
        "          next_num_channels = list_channels[idx + 1]\n",
        "          num_repeats = list_num_repeats[idx]\n",
        "          expand_rate = expand_rates[idx]\n",
        "          kernel_size = kernel_sizes[idx]\n",
        "          stride = strides[idx]\n",
        "          drop_rate = drop_connect_rate * counter / num_blocks\n",
        "          \n",
        "          name = \"MBConv{}_{}\".format(expand_rate, counter)\n",
        "          blocks.append((\n",
        "              name,\n",
        "              MBConv(num_channels, next_num_channels, \n",
        "                      kernel_size=kernel_size, stride=stride, expand_rate=expand_rate, \n",
        "                      se_rate=se_rate, drop_connect_rate=drop_rate)\n",
        "          ))\n",
        "          counter += 1\n",
        "          for i in range(1, num_repeats):                \n",
        "              name = \"MBConv{}_{}\".format(expand_rate, counter)\n",
        "              drop_rate = drop_connect_rate * counter / num_blocks                \n",
        "              blocks.append((\n",
        "                  name,\n",
        "                  MBConv(next_num_channels, next_num_channels, \n",
        "                          kernel_size=kernel_size, stride=1, expand_rate=expand_rate, \n",
        "                          se_rate=se_rate, drop_connect_rate=drop_rate)                                    \n",
        "              ))\n",
        "              counter += 1\n",
        "      \n",
        "      self.blocks = nn.Sequential(OrderedDict(blocks))\n",
        "      \n",
        "      # Define head\n",
        "      self.head = nn.Sequential(\n",
        "          nn.Conv2d(list_channels[-2], list_channels[-1], \n",
        "                    kernel_size=1, bias=False),\n",
        "          nn.BatchNorm2d(list_channels[-1], momentum=0.01, eps=1e-3),\n",
        "          Swish(),\n",
        "          nn.AdaptiveAvgPool2d(1),\n",
        "          Flatten(),\n",
        "          nn.Dropout(p=dropout_rate),\n",
        "          nn.Linear(list_channels[-1], num_classes)\n",
        "      )\n",
        "\n",
        "      self.apply(init_weights)\n",
        "      \n",
        "  def forward(self, x):\n",
        "      f = self.stem(x)\n",
        "      f = self.blocks(f)\n",
        "      #set_trace()\n",
        "      y = self.head(f)\n",
        "      f0 = nn.Sequential(nn.Linear(128, 11))\n",
        "      f1 = nn.Sequential(nn.Linear(128, 168))\n",
        "      f2 = nn.Sequential(nn.Linear(128, 7))\n",
        "      \n",
        "      return f0, f1, f2"
      ],
      "execution_count": 0,
      "outputs": []
    },
    {
      "cell_type": "markdown",
      "metadata": {
        "id": "ornPh8ZEKqSq",
        "colab_type": "text"
      },
      "source": [
        "\n",
        "All EfficientNet models can be defined using the following parametrization:\n",
        "\n",
        "**(width_coefficient, depth_coefficient, resolution, dropout_rate)**\n",
        "\n",
        "'efficientnet-b0': (1.0, 1.0, 224, 0.2),\n",
        "\n",
        "'efficientnet-b1': (1.0, 1.1, 240, 0.2),\n",
        "\n",
        "'efficientnet-b2': (1.1, 1.2, 260, 0.3),\n",
        "\n",
        "'efficientnet-b3': (1.2, 1.4, 300, 0.3),\n",
        "\n",
        "'efficientnet-b4': (1.4, 1.8, 380, 0.4),\n",
        "\n",
        "'efficientnet-b5': (1.6, 2.2, 456, 0.4),\n",
        "\n",
        "'efficientnet-b6': (1.8, 2.6, 528, 0.5),\n",
        "\n",
        "'efficientnet-b7': (2.0, 3.1, 600, 0.5),\n",
        "\n",
        "Let's define and train the third one: EfficientNet-B0"
      ]
    },
    {
      "cell_type": "code",
      "metadata": {
        "id": "wARE0uDI-6mP",
        "colab_type": "code",
        "colab": {}
      },
      "source": [
        "data = pd.read_feather('/content/drive/My Drive/Bengali/data/resize/train_data_0_42.feather')\n",
        "train = pd.read_csv('/content/drive/My Drive/Bengali/data/train.csv')"
      ],
      "execution_count": 0,
      "outputs": []
    },
    {
      "cell_type": "code",
      "metadata": {
        "id": "BPAsF6_3-6ov",
        "colab_type": "code",
        "colab": {}
      },
      "source": [
        "model = EfficientNet(num_classes=1000, width_coefficient=1, depth_coefficient=1, dropout_rate=0.2)"
      ],
      "execution_count": 0,
      "outputs": []
    },
    {
      "cell_type": "code",
      "metadata": {
        "id": "aRXe-VT8OKN6",
        "colab_type": "code",
        "outputId": "27df3398-4506-43e0-ec8f-cead613881dc",
        "colab": {
          "base_uri": "https://localhost:8080/",
          "height": 202
        }
      },
      "source": [
        "!wget http://storage.googleapis.com/public-models/efficientnet-b0-08094119.pth"
      ],
      "execution_count": 0,
      "outputs": [
        {
          "output_type": "stream",
          "text": [
            "--2020-03-07 23:10:22--  http://storage.googleapis.com/public-models/efficientnet-b0-08094119.pth\n",
            "Resolving storage.googleapis.com (storage.googleapis.com)... 172.217.204.128, 2607:f8b0:400c:c15::80\n",
            "Connecting to storage.googleapis.com (storage.googleapis.com)|172.217.204.128|:80... connected.\n",
            "HTTP request sent, awaiting response... 200 OK\n",
            "Length: 21383481 (20M) [application/octet-stream]\n",
            "Saving to: ‘efficientnet-b0-08094119.pth.2’\n",
            "\n",
            "efficientnet-b0-080 100%[===================>]  20.39M  74.4MB/s    in 0.3s    \n",
            "\n",
            "2020-03-07 23:10:22 (74.4 MB/s) - ‘efficientnet-b0-08094119.pth.2’ saved [21383481/21383481]\n",
            "\n"
          ],
          "name": "stdout"
        }
      ]
    },
    {
      "cell_type": "code",
      "metadata": {
        "id": "3O8TfI01OKLb",
        "colab_type": "code",
        "outputId": "86b17c60-9724-44ae-b1dc-191fab01cab8",
        "colab": {
          "base_uri": "https://localhost:8080/",
          "height": 34
        }
      },
      "source": [
        "model_state = torch.load(\"efficientnet-b0-08094119.pth\") #return OrderDict\n",
        "\"\"\"\n",
        " он помнит порядок, в котором ему были даны ключи\n",
        " OrderedDict([('_conv_stem.weight',\n",
        "              tensor([[[[-4.4029e-01, -2.9288e-01,  2.7663e-02],\n",
        "              .....\n",
        "\"\"\"\n",
        "\n",
        "\n",
        "# A basic remapping is required\n",
        "mapping = {\n",
        "    k: v for k, v in zip(model_state.keys(), model.state_dict().keys())\n",
        "}\n",
        "mapped_model_state = OrderedDict([\n",
        "    (mapping[k], v) for k, v in model_state.items()\n",
        "])\n",
        "\n",
        "model.load_state_dict(mapped_model_state, strict=False)"
      ],
      "execution_count": 0,
      "outputs": [
        {
          "output_type": "execute_result",
          "data": {
            "text/plain": [
              "<All keys matched successfully>"
            ]
          },
          "metadata": {
            "tags": []
          },
          "execution_count": 7
        }
      ]
    },
    {
      "cell_type": "code",
      "metadata": {
        "id": "A-hoFebY-6vP",
        "colab_type": "code",
        "colab": {}
      },
      "source": [
        "out = nn.Sequential(\n",
        "    nn.Linear(in_features=1280, out_features = 11),\n",
        "    nn.Linear(in_features=1280, out_features = 168),\n",
        "    nn.Linear(in_features=1280, out_features = 7)\n",
        ")\n",
        "\n",
        "model.head[6] = out"
      ],
      "execution_count": 0,
      "outputs": []
    },
    {
      "cell_type": "code",
      "metadata": {
        "id": "tFqWbF7GOJ_H",
        "colab_type": "code",
        "colab": {}
      },
      "source": [
        "from torch.utils.data import Dataset, DataLoader\n",
        "\n",
        "class Data(Dataset):\n",
        "\n",
        "  def __init__(self, data, label, transforms = None):\n",
        "    self.data = data\n",
        "    self.label = label\n",
        "    self.transforms = transforms\n",
        "  \n",
        "  def __len__(self):\n",
        "    return len(self.data)\n",
        "\n",
        "  def __getitem__(self, idx):\n",
        "    img = self.data.iloc[idx, 1:].values.reshape(42, 42).astype(np.uint8)       \n",
        "\n",
        "    if self.transforms is not None:\n",
        "                 \n",
        "      img = self.transforms(img)\n",
        "\n",
        "      \n",
        "    img = np.repeat(img, 3, axis = 0)  \n",
        "\n",
        "    lab1 = self.label.vowel_diacritic.values[idx]\n",
        "    lab2 = self.label.grapheme_root.values[idx]\n",
        "    lab3 = self.label.consonant_diacritic.values[idx]            \n",
        "    \n",
        "    return img, torch.tensor([lab1, lab2, lab3]) "
      ],
      "execution_count": 0,
      "outputs": []
    },
    {
      "cell_type": "code",
      "metadata": {
        "id": "gIxSAIN9OJ0k",
        "colab_type": "code",
        "colab": {}
      },
      "source": [
        "from torchvision.transforms import Compose, RandomCrop, Pad, RandomHorizontalFlip, Resize\n",
        "from torchvision.transforms import ToTensor, Normalize, ToPILImage\n",
        "import torchvision\n",
        "\n",
        "from torch.utils.data import Subset\n",
        "from PIL.Image import BICUBIC\n",
        "from PIL import Image\n",
        "\n",
        "\n",
        "tr =  Compose([\n",
        "               ToPILImage(),\n",
        "               Resize(256, BICUBIC),\n",
        "               RandomCrop(224),\n",
        "               RandomHorizontalFlip(),\n",
        "               ToTensor(),\n",
        "               Normalize(mean=[0.485,], std=[0.229,])\n",
        "               \n",
        "])\n",
        "\n",
        "\n",
        "dataset = Data(data, train, transforms = tr)\n",
        "dataloader = DataLoader(dataset, batch_size = 128, shuffle=True, drop_last=True, pin_memory=False)"
      ],
      "execution_count": 0,
      "outputs": []
    },
    {
      "cell_type": "code",
      "metadata": {
        "id": "G1_uwQJQUygR",
        "colab_type": "code",
        "colab": {}
      },
      "source": [
        "img, _ = next(iter(dataloader))\n",
        "plt.imshow(img[0][0])"
      ],
      "execution_count": 0,
      "outputs": []
    },
    {
      "cell_type": "code",
      "metadata": {
        "id": "opC6BneQ7nqB",
        "colab_type": "code",
        "colab": {}
      },
      "source": [
        "optimizer = torch.optim.SGD(model.parameters(), lr=0.01, momentum=0.8)\n",
        "criterion = nn.CrossEntropyLoss()"
      ] ,
      "execution_count": 0,
      "outputs": []
    }
  ]
}
