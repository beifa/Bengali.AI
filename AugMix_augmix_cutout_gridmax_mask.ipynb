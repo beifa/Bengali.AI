{
  "nbformat": 4,
  "nbformat_minor": 0,
  "metadata": {
    "kernelspec": {
      "name": "python3",
      "display_name": "Python 3"
    },
    "language_info": {
      "codemirror_mode": {
        "name": "ipython",
        "version": 3
      },
      "file_extension": ".py",
      "mimetype": "text/x-python",
      "name": "python",
      "nbconvert_exporter": "python",
      "pygments_lexer": "ipython3",
      "version": "3.6.6"
    },
    "colab": {
      "name": "AugMix_augmix_cutout_gridmax_mask.ipynb",
      "provenance": [],
      "collapsed_sections": [],
      "include_colab_link": true
    },
    "accelerator": "GPU"
  },
  "cells": [
    {
      "cell_type": "markdown",
      "metadata": {
        "id": "view-in-github",
        "colab_type": "text"
      },
      "source": [
        "<a href=\"https://colab.research.google.com/github/beifa/Bengali.AI/blob/master/AugMix_augmix_cutout_gridmax_mask.ipynb\" target=\"_parent\"><img src=\"https://colab.research.google.com/assets/colab-badge.svg\" alt=\"Open In Colab\"/></a>"
      ]
    },
    {
      "cell_type": "code",
      "metadata": {
        "id": "yin_MwVEc6fH",
        "colab_type": "code",
        "colab": {}
      },
      "source": [
        "import os\n",
        "import gc\n",
        "import cv2\n",
        "import numpy as np\n",
        "import pandas as pd\n",
        "from tqdm import tqdm\n",
        "import torch\n",
        "import torch.nn as nn\n",
        "from torch.utils.data import Dataset, DataLoader\n",
        "import torch.nn.functional as F\n",
        "from torchsummary import summary\n",
        "from torchvision import models, transforms\n",
        "from PIL import Image\n",
        "import albumentations\n",
        "from albumentations.core.transforms_interface import DualTransform\n",
        "from albumentations.augmentations import functional as FF\n",
        "import matplotlib.pyplot as plt\n",
        "device = torch.device(\"cuda:0\" if torch.cuda.is_available() else \"cpu\")\n",
        "PATH_RESIZE = '/content/drive/My Drive/Bengali/data/resize/'\n",
        "PATH = '/content/drive/My Drive/Bengali/data/'\n",
        "checkpoint = '/content/drive/My Drive/Bengali/checkpoint/'\n",
        "#137x236 grayscale images"
      ],
      "execution_count": 0,
      "outputs": []
    },
    {
      "cell_type": "code",
      "metadata": {
        "id": "TGkGTwZhI-0r",
        "colab_type": "code",
        "colab": {}
      },
      "source": [
        "from google.colab import drive\n",
        "drive.mount('/content/drive')"
      ],
      "execution_count": 0,
      "outputs": []
    },
    {
      "cell_type": "code",
      "metadata": {
        "id": "auEX-UR8dGBY",
        "colab_type": "code",
        "outputId": "d06623bc-9a5f-4c7d-aa4d-a5a31e76c2d9",
        "colab": {
          "base_uri": "https://localhost:8080/",
          "height": 84
        }
      },
      "source": [
        "!ls '/content/drive/My Drive/Bengali/data/resize/'"
      ],
      "execution_count": 0,
      "outputs": [
        {
          "output_type": "stream",
          "text": [
            "train_data_0_42.feather  train_data_1_64.feather  train_data_2_68.feather\n",
            "train_data_0_64.feather  train_data_1_68.feather  train_data_3_42.feather\n",
            "train_data_0_68.feather  train_data_2_42.feather  train_data_3_64.feather\n",
            "train_data_1_42.feather  train_data_2_64.feather  train_data_3_68.feather\n"
          ],
          "name": "stdout"
        }
      ]
    },
    {
      "cell_type": "code",
      "metadata": {
        "id": "krVdXuVzdF-p",
        "colab_type": "code",
        "colab": {}
      },
      "source": [
        "PATH_RESIZE = '/content/drive/My Drive/Bengali/data/resize/'\n",
        "PATH = '/content/drive/My Drive/Bengali/data/'\n",
        "train = pd.read_csv(PATH + 'train.csv')\n",
        "test = pd.read_csv(PATH + 'test.csv')\n",
        "f0 = pd.read_feather(PATH_RESIZE + 'train_data_0_64.feather')\n",
        "f1 = pd.read_feather(PATH_RESIZE + 'train_data_1_64.feather')\n",
        "f2 = pd.read_feather(PATH_RESIZE + 'train_data_2_64.feather')\n",
        "f3 = pd.read_feather(PATH_RESIZE + 'train_data_3_64.feather')"
      ],
      "execution_count": 0,
      "outputs": []
    },
    {
      "cell_type": "markdown",
      "metadata": {
        "id": "-n8pxAmZHYLt",
        "colab_type": "text"
      },
      "source": [
        "https://www.kaggle.com/haqishen/gridmask\n",
        "\n",
        "https://www.kaggle.com/haqishen/augmix-based-on-albumentations"
      ]
    },
    {
      "cell_type": "code",
      "metadata": {
        "id": "2PKSGcXWHYLx",
        "colab_type": "code",
        "outputId": "4704097f-9280-4622-b816-186a406edfca",
        "colab": {
          "base_uri": "https://localhost:8080/",
          "height": 34
        }
      },
      "source": [
        "#all data\n",
        "images = pd.concat([f0, f1, f2, f3], ignore_index = True)\n",
        "del f0\n",
        "del f1\n",
        "del f2\n",
        "del f3\n",
        "gc.collect()"
      ],
      "execution_count": 0,
      "outputs": [
        {
          "output_type": "execute_result",
          "data": {
            "text/plain": [
              "0"
            ]
          },
          "metadata": {
            "tags": []
          },
          "execution_count": 5
        }
      ]
    },
    {
      "cell_type": "code",
      "metadata": {
        "id": "ITNdvoimHYL0",
        "colab_type": "code",
        "colab": {}
      },
      "source": [
        "HEIGHT = 64\n",
        "WIDTH = 64\n",
        "\n",
        "class Dataset(Dataset):\n",
        "  \"\"\"\n",
        "  data = img, parquet\n",
        "  label = train.csv\n",
        "  size = resize image for small size\n",
        "  train = if train return label else only img \n",
        "  transform for change img\n",
        "\n",
        "  \"\"\"\n",
        "  def __init__(self, data, label, train = 'train', transforms = None, albumentations = None):\n",
        "      self.data = data\n",
        "      self.label = label\n",
        "      self.train = train        \n",
        "      self.transforms = transforms\n",
        "      self.albumentations = albumentations\n",
        "\n",
        "  def __len__(self):\n",
        "      return len(self.data)\n",
        "\n",
        "  def __getitem__(self, idx):\n",
        "      img = self.data.iloc[idx][1:].values.reshape(HEIGHT, WIDTH).astype(np.uint8)\n",
        "      #img = cv2.cvtColor(img, cv2.COLOR_BGR2RGB)    \n",
        "      \n",
        "      if self.transforms is not None:               \n",
        "          img = self.transforms(img)                \n",
        "      elif self.albumentations is not None:\n",
        "          res = self.albumentations(image=img)\n",
        "          img = res['image'].astype(np.float32)                \n",
        "      else:\n",
        "          img = img.astype(np.float32)\n",
        "          \n",
        "      img /= 255\n",
        "      img = img[np.newaxis, :, :]\n",
        "      img = 1 - img\n",
        "      img = np.repeat(img, 3, 0)  # 1ch to 3ch\n",
        "          \n",
        "      if self.train == 'test':          \n",
        "          return torch.tensor(img)  \n",
        "      else:          \n",
        "          lab1 = self.label.vowel_diacritic.values[idx]\n",
        "          lab2 = self.label.grapheme_root.values[idx]\n",
        "          lab3 = self.label.consonant_diacritic.values[idx]            \n",
        "          return img, torch.tensor([lab1, lab2, lab3])      "
      ],
      "execution_count": 0,
      "outputs": []
    },
    {
      "cell_type": "code",
      "metadata": {
        "id": "IjkdwZezHYL3",
        "colab_type": "code",
        "colab": {}
      },
      "source": [
        "class DoubleLinear(torch.nn.Module):\n",
        "  def __init__(self, Linear1, Linear2, Linear3):\n",
        "      super(DoubleLinear, self).__init__()\n",
        "      self.Linear1 = Linear1\n",
        "      self.Linear2 = Linear2\n",
        "      self.Linear3 = Linear3\n",
        "\n",
        "  def forward(self, input):\n",
        "      return self.Linear1(input), self.Linear2(input), self.Linear3(input)\n",
        "    \n",
        "def set_parameter_requires_grad(model, feature_extracting):\n",
        "    if feature_extracting:\n",
        "        for param in model.parameters():\n",
        "            param.requires_grad = False\n",
        "\n",
        "\n",
        "model = models.resnext50_32x4d(pretrained=False)\n",
        "\n",
        "\"\"\"\n",
        "feature_extract - это логическое значение, которое определяет,\n",
        "выполняем ли мы тонкую настройку или извлечение функции. \n",
        "Если feature_extract = False, модель настраивается и все параметры модели обновляются. Если feature_extract = True,\n",
        "обновляются только параметры последнего слоя, остальные остаются неизменными.\n",
        "\n",
        "\"\"\"\n",
        "\n",
        "feature_extract = False\n",
        "set_parameter_requires_grad(model, feature_extract)\n",
        "target1, target2, target3 = 11, 168, 7\n",
        "#resnext50_32x4d\n",
        "Linear_first = nn.Linear(2048, target1)\n",
        "Linear_second = nn.Linear(2048, target2)\n",
        "Linear_therd = nn.Linear(2048, target3)\n",
        "\n",
        "model.fc = DoubleLinear(Linear_first, Linear_second, Linear_therd)"
      ],
      "execution_count": 0,
      "outputs": []
    },
    {
      "cell_type": "code",
      "metadata": {
        "id": "1ZJulehPHYL7",
        "colab_type": "code",
        "colab": {}
      },
      "source": [
        "model.to(device)\n",
        "optimizer = torch.optim.Adam(model.parameters())\n",
        "scheduler = torch.optim.lr_scheduler.ReduceLROnPlateau(optimizer, 'min', patience = 0, verbose=True)\n",
        "criterion = nn.CrossEntropyLoss()"
      ],
      "execution_count": 0,
      "outputs": []
    },
    {
      "cell_type": "markdown",
      "metadata": {
        "id": "aVUfv5uIHYL-",
        "colab_type": "text"
      },
      "source": [
        "### cutmix"
      ]
    },
    {
      "cell_type": "code",
      "metadata": {
        "id": "bknEWOHcHYL_",
        "colab_type": "code",
        "colab": {}
      },
      "source": [
        "def ohem_loss( rate, cls_pred, cls_target ):\n",
        "\n",
        "    batch_size = cls_pred.size(0) \n",
        "    ohem_cls_loss = F.cross_entropy(cls_pred, cls_target, reduction='none', ignore_index=-1)\n",
        "\n",
        "    sorted_ohem_loss, idx = torch.sort(ohem_cls_loss, descending=True)\n",
        "    keep_num = min(sorted_ohem_loss.size()[0], int(batch_size*rate) )\n",
        "    if keep_num < sorted_ohem_loss.size()[0]:\n",
        "        keep_idx_cuda = idx[:keep_num]\n",
        "        ohem_cls_loss = ohem_cls_loss[keep_idx_cuda]\n",
        "    cls_loss = ohem_cls_loss.sum() / keep_num\n",
        "    return cls_loss\n",
        "\n",
        "\n",
        "def rand_bbox(size, lam):\n",
        "    W = size[2]\n",
        "    H = size[3]\n",
        "    cut_rat = np.sqrt(1. - lam)\n",
        "    cut_w = np.int(W * cut_rat)\n",
        "    cut_h = np.int(H * cut_rat)\n",
        "\n",
        "    # uniform\n",
        "    cx = np.random.randint(W)\n",
        "    cy = np.random.randint(H)\n",
        "\n",
        "    bbx1 = np.clip(cx - cut_w // 2, 0, W)\n",
        "    bby1 = np.clip(cy - cut_h // 2, 0, H)\n",
        "    bbx2 = np.clip(cx + cut_w // 2, 0, W)\n",
        "    bby2 = np.clip(cy + cut_h // 2, 0, H)\n",
        "\n",
        "    return bbx1, bby1, bbx2, bby2\n",
        "def cutmix(data, targets1, targets2, targets3, alpha):\n",
        "    indices = torch.randperm(data.size(0))\n",
        "    shuffled_data = data[indices]\n",
        "    shuffled_targets1 = targets1[indices]\n",
        "    shuffled_targets2 = targets2[indices]\n",
        "    shuffled_targets3 = targets3[indices]\n",
        "\n",
        "    lam = np.random.beta(alpha, alpha)\n",
        "    bbx1, bby1, bbx2, bby2 = rand_bbox(data.size(), lam)\n",
        "    data[:, :, bbx1:bbx2, bby1:bby2] = data[indices, :, bbx1:bbx2, bby1:bby2]\n",
        "    # adjust lambda to exactly match pixel ratio\n",
        "    lam = 1 - ((bbx2 - bbx1) * (bby2 - bby1) / (data.size()[-1] * data.size()[-2]))\n",
        "\n",
        "    targets = [targets1, shuffled_targets1, targets2, shuffled_targets2, targets3, shuffled_targets3, lam]\n",
        "    return data, targets\n",
        "# loss \n",
        "def cutmix_criterion(preds1,preds2,preds3, targets, rate=0.7):\n",
        "    targets1, targets2,targets3, targets4,targets5, targets6, lam = targets[0], targets[1], targets[2], targets[3], targets[4], targets[5], targets[6]\n",
        "    # criterion = nn.CrossEntropyLoss(reduction='mean')\n",
        "    criterion = ohem_loss\n",
        "    return [lam * criterion(rate, preds1, targets1) + (1 - lam) * criterion(rate, preds1, targets2),\n",
        "            lam * criterion(rate, preds2, targets3) + (1 - lam) * criterion(rate, preds2, targets4),\n",
        "            lam * criterion(rate, preds3, targets5) + (1 - lam) * criterion(rate, preds3, targets6) ]\n",
        "\n",
        "\n",
        "def mixup(data, targets1, targets2, targets3, alpha):\n",
        "    indices = torch.randperm(data.size(0))\n",
        "    shuffled_data = data[indices]\n",
        "    shuffled_targets1 = targets1[indices]\n",
        "    shuffled_targets2 = targets2[indices]\n",
        "    shuffled_targets3 = targets3[indices]\n",
        "\n",
        "    lam = np.random.beta(alpha, alpha)\n",
        "    data = data * lam + shuffled_data * (1 - lam)\n",
        "    targets = [targets1, shuffled_targets1, targets2, shuffled_targets2, targets3, shuffled_targets3, lam]\n",
        "\n",
        "    return data, targets\n",
        "\n",
        "\n",
        "def mixup_criterion(preds1,preds2,preds3, targets, rate=0.7):\n",
        "    targets1, targets2,targets3, targets4,targets5, targets6, lam = targets[0], targets[1], targets[2], targets[3], targets[4], targets[5], targets[6]\n",
        "    # criterion = nn.CrossEntropyLoss(reduction='mean')\n",
        "    criterion = ohem_loss\n",
        "    return [lam * criterion(rate, preds1, targets1) + (1 - lam) * criterion(rate, preds1, targets2),\n",
        "            lam * criterion(rate, preds2, targets3) + (1 - lam) * criterion(rate, preds2, targets4),\n",
        "            lam * criterion(rate, preds3, targets5) + (1 - lam) * criterion(rate, preds3, targets6) ]"
      ],
      "execution_count": 0,
      "outputs": []
    },
    {
      "cell_type": "markdown",
      "metadata": {
        "id": "DJlzvZRSHYMC",
        "colab_type": "text"
      },
      "source": [
        "### GridMask"
      ]
    },
    {
      "cell_type": "code",
      "metadata": {
        "id": "c8EXILe6HYMD",
        "colab_type": "code",
        "colab": {}
      },
      "source": [
        "class GridMask(DualTransform):\n",
        "    \"\"\"GridMask augmentation for image classification and object detection.\n",
        "    \n",
        "    Author: Qishen Ha\n",
        "    Email: haqishen@gmail.com\n",
        "    2020/01/29\n",
        "\n",
        "    Args:\n",
        "        num_grid (int): number of grid in a row or column.\n",
        "        fill_value (int, float, lisf of int, list of float): value for dropped pixels.\n",
        "        rotate ((int, int) or int): range from which a random angle is picked. If rotate is a single int\n",
        "            an angle is picked from (-rotate, rotate). Default: (-90, 90)\n",
        "        mode (int):\n",
        "            0 - cropout a quarter of the square of each grid (left top)\n",
        "            1 - reserve a quarter of the square of each grid (left top)\n",
        "            2 - cropout 2 quarter of the square of each grid (left top & right bottom)\n",
        "\n",
        "    Targets:\n",
        "        image, mask\n",
        "\n",
        "    Image types:\n",
        "        uint8, float32\n",
        "\n",
        "    Reference:\n",
        "    |  https://arxiv.org/abs/2001.04086\n",
        "    |  https://github.com/akuxcw/GridMask\n",
        "    \"\"\"\n",
        "\n",
        "    def __init__(self, num_grid=3, fill_value=0, rotate=0, mode=0, always_apply=False, p=0.5):\n",
        "        super(GridMask, self).__init__(always_apply, p)\n",
        "        if isinstance(num_grid, int):\n",
        "            num_grid = (num_grid, num_grid)\n",
        "        if isinstance(rotate, int):\n",
        "            rotate = (-rotate, rotate)\n",
        "        self.num_grid = num_grid\n",
        "        self.fill_value = fill_value\n",
        "        self.rotate = rotate\n",
        "        self.mode = mode\n",
        "        self.masks = None\n",
        "        self.rand_h_max = []\n",
        "        self.rand_w_max = []\n",
        "\n",
        "    def init_masks(self, height, width):\n",
        "        if self.masks is None:\n",
        "            self.masks = []\n",
        "            n_masks = self.num_grid[1] - self.num_grid[0] + 1\n",
        "            for n, n_g in enumerate(range(self.num_grid[0], self.num_grid[1] + 1, 1)):\n",
        "                grid_h = height / n_g\n",
        "                grid_w = width / n_g\n",
        "                this_mask = np.ones((int((n_g + 1) * grid_h), int((n_g + 1) * grid_w))).astype(np.uint8)\n",
        "                for i in range(n_g + 1):\n",
        "                    for j in range(n_g + 1):\n",
        "                        this_mask[\n",
        "                             int(i * grid_h) : int(i * grid_h + grid_h / 2),\n",
        "                             int(j * grid_w) : int(j * grid_w + grid_w / 2)\n",
        "                        ] = self.fill_value\n",
        "                        if self.mode == 2:\n",
        "                            this_mask[\n",
        "                                 int(i * grid_h + grid_h / 2) : int(i * grid_h + grid_h),\n",
        "                                 int(j * grid_w + grid_w / 2) : int(j * grid_w + grid_w)\n",
        "                            ] = self.fill_value\n",
        "                \n",
        "                if self.mode == 1:\n",
        "                    this_mask = 1 - this_mask\n",
        "\n",
        "                self.masks.append(this_mask)\n",
        "                self.rand_h_max.append(grid_h)\n",
        "                self.rand_w_max.append(grid_w)\n",
        "\n",
        "    def apply(self, image, mask, rand_h, rand_w, angle, **params):\n",
        "        h, w = image.shape[:2]\n",
        "        mask = FF.rotate(mask, angle) if self.rotate[1] > 0 else mask\n",
        "        mask = mask[:,:,np.newaxis] if image.ndim == 3 else mask\n",
        "        image *= mask[rand_h:rand_h+h, rand_w:rand_w+w].astype(image.dtype)\n",
        "        return image\n",
        "\n",
        "    def get_params_dependent_on_targets(self, params):\n",
        "        img = params['image']\n",
        "        height, width = img.shape[:2]\n",
        "        self.init_masks(height, width)\n",
        "\n",
        "        mid = np.random.randint(len(self.masks))\n",
        "        mask = self.masks[mid]\n",
        "        rand_h = np.random.randint(self.rand_h_max[mid])\n",
        "        rand_w = np.random.randint(self.rand_w_max[mid])\n",
        "        angle = np.random.randint(self.rotate[0], self.rotate[1]) if self.rotate[1] > 0 else 0\n",
        "\n",
        "        return {'mask': mask, 'rand_h': rand_h, 'rand_w': rand_w, 'angle': angle}\n",
        "\n",
        "    @property\n",
        "    def targets_as_params(self):\n",
        "        return ['image']\n",
        "\n",
        "    def get_transform_init_args_names(self):\n",
        "        return ('num_grid', 'fill_value', 'rotate', 'mode')"
      ],
      "execution_count": 0,
      "outputs": []
    },
    {
      "cell_type": "markdown",
      "metadata": {
        "id": "02O9hFHYHYMF",
        "colab_type": "text"
      },
      "source": [
        "### AugMix"
      ]
    },
    {
      "cell_type": "code",
      "metadata": {
        "id": "lHMnBHQNHYMG",
        "colab_type": "code",
        "colab": {}
      },
      "source": [
        "from albumentations.core.transforms_interface import ImageOnlyTransform\n",
        "from PIL import Image, ImageOps, ImageEnhance\n",
        "\n",
        "def int_parameter(level, maxval):\n",
        "    \"\"\"Helper function to scale `val` between 0 and maxval .\n",
        "    Args:\n",
        "    level: Level of the operation that will be between [0, `PARAMETER_MAX`].\n",
        "    maxval: Maximum value that the operation can have. This will be scaled to\n",
        "      level/PARAMETER_MAX.\n",
        "    Returns:\n",
        "    An int that results from scaling `maxval` according to `level`.\n",
        "    \"\"\"\n",
        "    return int(level * maxval / 10)\n",
        "\n",
        "\n",
        "def float_parameter(level, maxval):\n",
        "    \"\"\"Helper function to scale `val` between 0 and maxval.\n",
        "    Args:\n",
        "    level: Level of the operation that will be between [0, `PARAMETER_MAX`].\n",
        "    maxval: Maximum value that the operation can have. This will be scaled to\n",
        "      level/PARAMETER_MAX.\n",
        "    Returns:\n",
        "    A float that results from scaling `maxval` according to `level`.\n",
        "    \"\"\"\n",
        "    return float(level) * maxval / 10.\n",
        "\n",
        "\n",
        "def sample_level(n):\n",
        "    return np.random.uniform(low=0.1, high=n)\n",
        "\n",
        "\n",
        "def autocontrast(pil_img, _):\n",
        "    return ImageOps.autocontrast(pil_img)\n",
        "\n",
        "\n",
        "def equalize(pil_img, _):\n",
        "    return ImageOps.equalize(pil_img)\n",
        "\n",
        "\n",
        "def posterize(pil_img, level):\n",
        "    level = int_parameter(sample_level(level), 4)\n",
        "    return ImageOps.posterize(pil_img, 4 - level)\n",
        "\n",
        "\n",
        "def rotate(pil_img, level):\n",
        "    degrees = int_parameter(sample_level(level), 30)\n",
        "    if np.random.uniform() > 0.5:\n",
        "        degrees = -degrees\n",
        "    return pil_img.rotate(degrees, resample=Image.BILINEAR)\n",
        "\n",
        "\n",
        "def solarize(pil_img, level):\n",
        "    level = int_parameter(sample_level(level), 256)\n",
        "    return ImageOps.solarize(pil_img, 256 - level)\n",
        "\n",
        "\n",
        "def shear_x(pil_img, level):\n",
        "    level = float_parameter(sample_level(level), 0.3)\n",
        "    if np.random.uniform() > 0.5:\n",
        "        level = -level\n",
        "    return pil_img.transform(pil_img.size,\n",
        "                           Image.AFFINE, (1, level, 0, 0, 1, 0),\n",
        "                           resample=Image.BILINEAR)\n",
        "\n",
        "\n",
        "def shear_y(pil_img, level):\n",
        "    level = float_parameter(sample_level(level), 0.3)\n",
        "    if np.random.uniform() > 0.5:\n",
        "        level = -level\n",
        "    return pil_img.transform(pil_img.size,\n",
        "                           Image.AFFINE, (1, 0, 0, level, 1, 0),\n",
        "                           resample=Image.BILINEAR)\n",
        "\n",
        "\n",
        "def translate_x(pil_img, level):\n",
        "    level = int_parameter(sample_level(level), pil_img.size[0] / 3)\n",
        "    if np.random.random() > 0.5:\n",
        "        level = -level\n",
        "    return pil_img.transform(pil_img.size,\n",
        "                           Image.AFFINE, (1, 0, level, 0, 1, 0),\n",
        "                           resample=Image.BILINEAR)\n",
        "\n",
        "\n",
        "def translate_y(pil_img, level):\n",
        "    level = int_parameter(sample_level(level), pil_img.size[0] / 3)\n",
        "    if np.random.random() > 0.5:\n",
        "        level = -level\n",
        "    return pil_img.transform(pil_img.size,\n",
        "                           Image.AFFINE, (1, 0, 0, 0, 1, level),\n",
        "                           resample=Image.BILINEAR)\n",
        "\n",
        "\n",
        "# operation that overlaps with ImageNet-C's test set\n",
        "def color(pil_img, level):\n",
        "    level = float_parameter(sample_level(level), 1.8) + 0.1\n",
        "    return ImageEnhance.Color(pil_img).enhance(level)\n",
        "\n",
        "\n",
        "# operation that overlaps with ImageNet-C's test set\n",
        "def contrast(pil_img, level):\n",
        "    level = float_parameter(sample_level(level), 1.8) + 0.1\n",
        "    return ImageEnhance.Contrast(pil_img).enhance(level)\n",
        "\n",
        "\n",
        "# operation that overlaps with ImageNet-C's test set\n",
        "def brightness(pil_img, level):\n",
        "    level = float_parameter(sample_level(level), 1.8) + 0.1\n",
        "    return ImageEnhance.Brightness(pil_img).enhance(level)\n",
        "\n",
        "\n",
        "# operation that overlaps with ImageNet-C's test set\n",
        "def sharpness(pil_img, level):\n",
        "    level = float_parameter(sample_level(level), 1.8) + 0.1\n",
        "    return ImageEnhance.Sharpness(pil_img).enhance(level)\n",
        "\n",
        "\n",
        "augmentations = [\n",
        "    autocontrast, equalize, posterize, rotate, solarize, shear_x, shear_y,\n",
        "    translate_x, translate_y\n",
        "]\n",
        "\n",
        "augmentations_all = [\n",
        "    autocontrast, equalize, posterize, rotate, solarize, shear_x, shear_y,\n",
        "    translate_x, translate_y, color, contrast, brightness, sharpness\n",
        "]\n",
        "\n",
        "def normalize(image):\n",
        "    \"\"\"Normalize input image channel-wise to zero mean and unit variance.\"\"\"\n",
        "    return image - 127\n",
        "\n",
        "def apply_op(image, op, severity):\n",
        "    #   image = np.clip(image, 0, 255)\n",
        "    pil_img = Image.fromarray(image)  # Convert to PIL.Image\n",
        "    pil_img = op(pil_img, severity)\n",
        "    return np.asarray(pil_img)\n",
        "\n",
        "def augment_and_mix(image, severity=3, width=3, depth=-1, alpha=1.):\n",
        "    \"\"\"Perform AugMix augmentations and compute mixture.\n",
        "    Args:\n",
        "    image: Raw input image as float32 np.ndarray of shape (h, w, c)\n",
        "    severity: Severity of underlying augmentation operators (between 1 to 10).\n",
        "    width: Width of augmentation chain\n",
        "    depth: Depth of augmentation chain. -1 enables stochastic depth uniformly\n",
        "      from [1, 3]\n",
        "    alpha: Probability coefficient for Beta and Dirichlet distributions.\n",
        "    Returns:\n",
        "    mixed: Augmented and mixed image.\n",
        "    \"\"\"\n",
        "    ws = np.float32(\n",
        "      np.random.dirichlet([alpha] * width))\n",
        "    m = np.float32(np.random.beta(alpha, alpha))\n",
        "\n",
        "    mix = np.zeros_like(image).astype(np.float32)\n",
        "    for i in range(width):\n",
        "        image_aug = image.copy()\n",
        "        depth = depth if depth > 0 else np.random.randint(1, 4)\n",
        "        for _ in range(depth):\n",
        "            op = np.random.choice(augmentations)\n",
        "            image_aug = apply_op(image_aug, op, severity)\n",
        "        # Preprocessing commutes since all coefficients are convex\n",
        "        mix += ws[i] * image_aug\n",
        "#         mix += ws[i] * normalize(image_aug)\n",
        "\n",
        "    mixed = (1 - m) * image + m * mix\n",
        "#     mixed = (1 - m) * normalize(image) + m * mix\n",
        "    return mixed\n",
        "\n",
        "\n",
        "class RandomAugMix(ImageOnlyTransform):\n",
        "\n",
        "  def __init__(self, severity=3, width=3, depth=-1, alpha=1., always_apply=False, p=0.5):\n",
        "    super().__init__(always_apply, p)\n",
        "    self.severity = severity\n",
        "    self.width = width\n",
        "    self.depth = depth\n",
        "    self.alpha = alpha\n",
        "\n",
        "  def apply(self, image, **params):\n",
        "    image = augment_and_mix(\n",
        "        image,\n",
        "        self.severity,\n",
        "        self.width,\n",
        "        self.depth,\n",
        "        self.alpha\n",
        "    )\n",
        "    return image"
      ],
      "execution_count": 0,
      "outputs": []
    },
    {
      "cell_type": "markdown",
      "metadata": {
        "id": "E--XiMgjnm66",
        "colab_type": "text"
      },
      "source": [
        "#Cutout"
      ]
    },
    {
      "cell_type": "code",
      "metadata": {
        "id": "VeXh4M5snJh-",
        "colab_type": "code",
        "colab": {}
      },
      "source": [
        "import torch\n",
        "import numpy as np\n",
        "\n",
        "\n",
        "class Cutout(object):\n",
        "  \"\"\"Randomly mask out one or more patches from an image.\n",
        "  Args:\n",
        "      n_holes (int): Number of patches to cut out of each image.\n",
        "      length (int): The length (in pixels) of each square patch.\n",
        "  \"\"\"\n",
        "  def __init__(self, n_holes, length):\n",
        "    self.n_holes = n_holes\n",
        "    self.length = length\n",
        "\n",
        "  def __call__(self, img):\n",
        "    \"\"\"\n",
        "    Args:\n",
        "        img (Tensor): Tensor image of size (C, H, W).\n",
        "    Returns:\n",
        "        Tensor: Image with n_holes of dimension length x length cut out of it.\n",
        "    \"\"\"\n",
        "    h = img.size(1)\n",
        "    w = img.size(2)\n",
        "\n",
        "    mask = np.ones((h, w), np.float32)\n",
        "\n",
        "    for n in range(self.n_holes):\n",
        "        y = np.random.randint(h)\n",
        "        x = np.random.randint(w)\n",
        "\n",
        "        y1 = np.clip(y - self.length // 2, 0, h)\n",
        "        y2 = np.clip(y + self.length // 2, 0, h)\n",
        "        x1 = np.clip(x - self.length // 2, 0, w)\n",
        "        x2 = np.clip(x + self.length // 2, 0, w)\n",
        "\n",
        "        mask[y1: y2, x1: x2] = 0.\n",
        "\n",
        "    mask = torch.from_numpy(mask)\n",
        "    mask = mask.expand_as(img)\n",
        "    img = img * mask\n",
        "\n",
        "    return img"
      ],
      "execution_count": 0,
      "outputs": []
    },
    {
      "cell_type": "markdown",
      "metadata": {
        "id": "NsKue89kJWWg",
        "colab_type": "text"
      },
      "source": [
        "### Small test"
      ]
    },
    {
      "cell_type": "code",
      "metadata": {
        "id": "TR6qQVLzQ3JX",
        "colab_type": "code",
        "colab": {}
      },
      "source": [
        "from albumentations import (\n",
        "    PadIfNeeded,\n",
        "    HorizontalFlip,\n",
        "    VerticalFlip,    \n",
        "    CenterCrop,    \n",
        "    Crop,\n",
        "    Compose,\n",
        "    Transpose,\n",
        "    RandomRotate90,\n",
        "    ElasticTransform,\n",
        "    GridDistortion, \n",
        "    OpticalDistortion,\n",
        "    RandomSizedCrop,\n",
        "    OneOf,\n",
        "    CLAHE,\n",
        "    RandomBrightnessContrast,    \n",
        "    RandomGamma,\n",
        "    Rotate  )"
      ],
      "execution_count": 0,
      "outputs": []
    },
    {
      "cell_type": "code",
      "metadata": {
        "id": "xNnJv-PLOCiU",
        "colab_type": "code",
        "colab": {}
      },
      "source": [
        "tr = transforms.Compose([transforms.Resize([IMG_HEIGHT, IMG_WIDTH]),\n",
        "                         transforms.RandomRotation(degrees=20),\n",
        "                         transforms.ToTensor(),\n",
        "                         Cutout(n_holes=3, length=65),\n",
        "                         transforms.Normalize(MODEL_MEAN, MODEL_STD),\n",
        "                         ])"
      ],
      "execution_count": 0,
      "outputs": []
    },
    {
      "cell_type": "code",
      "metadata": {
        "id": "Ab1k90beM3fc",
        "colab_type": "code",
        "outputId": "95227848-5ac4-4806-9294-544b57328490",
        "colab": {
          "base_uri": "https://localhost:8080/"
        }
      },
      "source": [
        "\"\"\"\n",
        "собственно моя идея разделить на части и поскольку для меня cv,  работа с изображением в новинку\n",
        "все, что смог так сказать, правда это не дало желаемых результатов, но я не успел все по тестить и вот я думаю, что ключевая проблема при\n",
        "Crop, у меня только часть изображения(Crop) и в этом проблема\n",
        "\"\"\"\n",
        "tr = albumentations.Compose([\n",
        "                             #OneOf([\n",
        "                                    #Crop(40, 0, 64, 64, p = .25), #right\n",
        "                                    #Crop(0, 0, 20, 64, p = .25), #left\n",
        "                                    #Crop(0, 0, 64, 20, p= .4), #up\n",
        "                                    Crop(20, 20, 45, 40, p =.6),#center\n",
        "\n",
        "                                    #], p = .4),                             \n",
        "                             PadIfNeeded(64, 64, border_mode=0),\n",
        "                            \n",
        "])\n",
        "f0 = pd.read_feather(PATH_RESIZE + 'train_data_0_64.feather')\n",
        "data = Dataset(f0.iloc[:10], train.iloc[:10], 'train', transforms = None, albumentations = tr)\n",
        "dataloader = DataLoader(data, batch_size=10, shuffle=True)\n",
        "\n",
        "fig, ax = plt.subplots(nrows=1, ncols=4, figsize=(16, 8)) \n",
        "for i in range(4):\n",
        "    #img, _ = data[i] # torch.Size([1, 64, 64])\n",
        "    img, _ = next(iter(dataloader))    \n",
        "    #print(img.shape)\n",
        "    #ax[i].imshow(img.view(64, 64)) \n",
        "    print(img.shape)\n",
        "    ax[i].imshow(img[0][0])"
      ],
      "execution_count": 0,
      "outputs": [
        {
          "output_type": "stream",
          "text": [
            "torch.Size([10, 3, 64, 64])\n",
            "torch.Size([10, 3, 64, 64])\n",
            "torch.Size([10, 3, 64, 64])\n",
            "torch.Size([10, 3, 64, 64])\n"
          ],
          "name": "stdout"
        },
        {
          "output_type": "display_data",
          "data": {
            "image/png": "[encoded data removed]",
            "text/plain": [
              "<Figure size 1152x576 with 4 Axes>"
            ]
          },
          "metadata": {
            "tags": []
          }
        }
      ]
    },
    {
      "cell_type": "code",
      "metadata": {
        "id": "capr4tT6HYMJ",
        "colab_type": "code",
        "outputId": "847e74a7-b662-4b73-8339-d6a1d9fc41c2",
        "colab": {
          "base_uri": "https://localhost:8080/"
        }
      },
      "source": [
        "p = np.random.randn()\n",
        "val = np.arange(1,6)\n",
        "if p > 1:\n",
        "  num  = np.random.choice(val)\n",
        "else:\n",
        "  num = 0\n",
        "print(num)\n",
        "tr = albumentations.Compose([\n",
        "                             OneOf([\n",
        "                                    Crop(40-num, 0, 64, 64, p = .25), #right\n",
        "                                    Crop(0, 0, 25, 64, p = .25), #left\n",
        "                                    Crop(0, 0, 64, 25-num, p= .4), #up\n",
        "                                    Crop(20, 20, 45-num, 45+num, p =.6),#center\n",
        "\n",
        "                                    ], p = .4),                             \n",
        "                             PadIfNeeded(64, 64, border_mode=0),\n",
        "                             OneOf([\n",
        "                             \n",
        "                                   Rotate(-5, border_mode=5, p=.2),\n",
        "                                   Rotate(5, border_mode=5, p=.5),\n",
        "                                   ], p = .2)    \n",
        "])\n",
        "\n",
        "f0 = pd.read_feather(PATH_RESIZE + 'train_data_0_64.feather')\n",
        "data = Dataset(f0.iloc[:10], train.iloc[:10], 'train', transforms = None, albumentations = tr)\n",
        "dataloader = DataLoader(data, batch_size=10, shuffle=True)\n",
        "\n",
        "fig, ax = plt.subplots(nrows=1, ncols=4, figsize=(16, 8)) \n",
        "for i in range(4):\n",
        "    #img, _ = data[i] # torch.Size([1, 64, 64])\n",
        "    img, _ = next(iter(dataloader))\n",
        "    \n",
        "    #print(img.shape)\n",
        "    #ax[i].imshow(img.view(64, 64)) \n",
        "    print(img.shape)\n",
        "    ax[i].imshow(img[0][0])"
      ],
      "execution_count": 0,
      "outputs": [
        {
          "output_type": "stream",
          "text": [
            "0\n",
            "torch.Size([10, 3, 64, 64])\n",
            "torch.Size([10, 3, 64, 64])\n",
            "torch.Size([10, 3, 64, 64])\n",
            "torch.Size([10, 3, 64, 64])\n"
          ],
          "name": "stdout"
        },
        {
          "output_type": "display_data",
          "data": {
            "image/png": "[encoded data removed]",
            "text/plain": [
              "<Figure size 1152x576 with 4 Axes>"
            ]
          },
          "metadata": {
            "tags": []
          }
        }
      ]
    },
    {
      "cell_type": "markdown",
      "metadata": {
        "id": "TylDXAxmJfAr",
        "colab_type": "text"
      },
      "source": [
        "### Train"
      ]
    },
    {
      "cell_type": "markdown",
      "metadata": {
        "id": "pEon8iR2KCkv",
        "colab_type": "text"
      },
      "source": [
        "Это моя попытка сделать фолды для нн.\n",
        "И чуть гугл не сломал, но так и не понял как \"все\" это делают.\n",
        "И сделал по своему.\n",
        "\n",
        "К концу этого соревнования и просмотрев кучу кода на гитхаба я допер, хотя я не уверен, просто размечаем трайн указав для каждого значения номер фолда"
      ]
    },
    {
      "cell_type": "code",
      "metadata": {
        "id": "gf_5wYPZHYMO",
        "colab_type": "code",
        "colab": {}
      },
      "source": [
        "def split_data(img, target, seed = 13, num = 0.20):\n",
        "  \"\"\"\n",
        "  ing = dataset  images\n",
        "  target = train\n",
        "  num = percent split\n",
        "  return train and test \n",
        "  \"\"\"\n",
        "  spl = int(img.shape[0]*num)\n",
        "  np.random.seed(seed)\n",
        "  idx = np.arange(target.shape[0])\n",
        "  np.random.shuffle(idx)  \n",
        "\n",
        "  return img.iloc[idx[:-spl]], img.iloc[idx[:spl]], target.iloc[idx[:-spl]], target.iloc[idx[:spl]]\n",
        "\n",
        "images_train, images_test, target_train, target_test= split_data(images, train, seed = 13, num = .20)"
      ],
      "execution_count": 0,
      "outputs": []
    },
    {
      "cell_type": "code",
      "metadata": {
        "id": "dY4WWdaJHYMQ",
        "colab_type": "code",
        "outputId": "c144aa25-b356-41c4-d3e2-597d4e5a34de",
        "colab": {
          "base_uri": "https://localhost:8080/",
          "height": 138
        }
      },
      "source": [
        "def stratifFolds(images_train, target_train):\n",
        "  \"\"\"\n",
        "  images_target = images after split data\n",
        "  target_train = target after split data\n",
        "  summ we sum train grapheme for make splits\n",
        "  return list idx split \n",
        "  \"\"\"\n",
        "\n",
        "  from sklearn.model_selection import StratifiedKFold\n",
        "  skf = StratifiedKFold(n_splits=4, shuffle=True, random_state=13)\n",
        "  target_train['summ'] = target_train.iloc[:, [1,2,3]].sum(axis =1)\n",
        "  spl = list(skf.split(images_train, target_train.summ))\n",
        "  return spl\n",
        "\n",
        "splits = stratifFolds(images_train, target_train)"
      ],
      "execution_count": 0,
      "outputs": [
        {
          "output_type": "stream",
          "text": [
            "/usr/local/lib/python3.6/dist-packages/ipykernel_launcher.py:11: SettingWithCopyWarning: \n",
            "A value is trying to be set on a copy of a slice from a DataFrame.\n",
            "Try using .loc[row_indexer,col_indexer] = value instead\n",
            "\n",
            "See the caveats in the documentation: http://pandas.pydata.org/pandas-docs/stable/user_guide/indexing.html#returning-a-view-versus-a-copy\n",
            "  # This is added back by InteractiveShellApp.init_path()\n"
          ],
          "name": "stderr"
        }
      ]
    },
    {
      "cell_type": "code",
      "metadata": {
        "id": "3khPXmTEHYMS",
        "colab_type": "code",
        "colab": {}
      },
      "source": [
        "def plot_img(img):\n",
        "    fig, ax = plt.subplots(nrows=3, ncols=4, figsize=(16, 8)) \n",
        "    num = 0\n",
        "    for nr in range(3):\n",
        "        for col in range(4):\n",
        "            ax[nr][col].imshow(img[num][0].cpu().detach().numpy(), cmap='gray')\n",
        "            num +=1\n",
        "    plt.show()"
      ],
      "execution_count": 0,
      "outputs": []
    },
    {
      "cell_type": "code",
      "metadata": {
        "id": "p3duGJzwypV8",
        "colab_type": "code",
        "colab": {}
      },
      "source": [
        "#model.load_state_dict(torch.load(model.state_dict(),'resnext50_32x4d_20_64*64_sample5_batch64_nopre_AdamW_shulde_min_crop.pth'))\n",
        "#model.load_state_dict(torch.load('resnext50_32x4d_20_64_64_sample5_batch64_nopre_AdamW_shulde_min_crop.pth'))"
      ],
      "execution_count": 0,
      "outputs": []
    },
    {
      "cell_type": "code",
      "metadata": {
        "id": "HCdjJvKuHYMV",
        "colab_type": "code",
        "colab": {}
      },
      "source": [
        "#not all data, sample\n",
        "epochs = 50\n",
        "BATCH_SIZE = 64\n",
        "fold = [f'Fold_{i}' for i in range(4)]\n",
        "index = pd.MultiIndex.from_product([\n",
        "                            [0],\n",
        "                            ['acc', 'loss', 'acc_val', 'loss_val']], names= ['Epoches', 'Statistics'] )\n",
        "df = pd.DataFrame(columns=fold, index = index)\n",
        "\n",
        "# tr = albumentations.Compose([\n",
        "#     RandomAugMix(severity=7, width=7, alpha=5., p=1.),\n",
        "#     #GridMask(num_grid=2, p=1),\n",
        "#     GridMask(num_grid=1, rotate=15, mode=2,  p=1),\n",
        "    \n",
        "# ])\n",
        "\n",
        "is_plot_m = True\n",
        "is_plot_c = True\n",
        "ALPHA = 0.8\n",
        "for epoch in range(epochs): \n",
        "  print('epochs {}/{} '.format(epoch+1,epochs))\n",
        "  print('================================')\n",
        "  \n",
        "  for i, (train_idx, valid_idx) in enumerate(splits):\n",
        "    print(f'\\nFold: {i + 1}\\n')\n",
        "  #   ################\n",
        "    p = np.random.randn()\n",
        "    val = np.arange(1,6)\n",
        "    if p > 1:\n",
        "      num  = np.random.choice(val)\n",
        "    else:\n",
        "      num = 0\n",
        "    tr = albumentations.Compose([\n",
        "                                \n",
        "                                OneOf([\n",
        "                                        # Crop(40-num, 0, 64, 64, p = .25), #right\n",
        "                                        # Crop(0, 0, 25, 64, p = .25), #left\n",
        "                                        Crop(0, 0, 64, 25-num, p= .4), #up\n",
        "                                        Crop(20, 20, 45-num, 45+num, p =.6),#center\n",
        "                                        ], p = .4),                             \n",
        "                                PadIfNeeded(64, 64, border_mode=0),\n",
        "                                OneOf([                                \n",
        "                                      Rotate(-5, border_mode=5, p=.2),\n",
        "                                      Rotate(5, border_mode=5, p=.5),\n",
        "                                      ], p = .2)   \n",
        "                                ])\n",
        "\n",
        "\n",
        "\n",
        "    ###############    \n",
        "\n",
        "    reduced_index = target_train.iloc[train_idx].groupby(['grapheme_root', 'vowel_diacritic', 'consonant_diacritic']).apply(lambda x: x.sample(30)).image_id.values\n",
        "    reduced_index_valid = target_train.iloc[valid_idx].groupby(['grapheme_root', 'vowel_diacritic', 'consonant_diacritic']).apply(lambda x: x.sample(5)).image_id.values  \n",
        "\n",
        "    running_loss = 0\n",
        "    running_acc = 0.0\n",
        "    valid_loss, valid_acc = 0, 0\n",
        "    loss_mixup = 0\n",
        "    loss_cutmix = 0\n",
        "    to_do = {'train': reduced_index, 'valid': reduced_index_valid}\n",
        "    for mark in to_do:\n",
        "      reduced_train = target_train.loc[target_train.image_id.isin(to_do[mark])]\n",
        "      reduced_data = images_train.loc[images_train.image_id.isin(to_do[mark])]\n",
        "      #data = Dataset(reduced_data, reduced_train, train= 'train', transform=transf)\n",
        "      data = Dataset(reduced_data, reduced_train, train= 'train', transforms = None, albumentations = None)  \n",
        "      dataloader = DataLoader(data, batch_size=BATCH_SIZE, shuffle=True)\n",
        "      if mark == 'train':\n",
        "          model.train()\n",
        "      else:\n",
        "          model.eval()\n",
        "\n",
        "      for idx, (img, labels) in tqdm(enumerate(dataloader),total=len(dataloader)):         \n",
        "          img = img.to(device)\n",
        "          lab1 = labels[:, 0].to(device)\n",
        "          lab2 = labels[:, 1].to(device)\n",
        "          lab3 = labels[:, 2].to(device)\n",
        "          \n",
        "          \n",
        "          \n",
        "          ################################# add mixup and cutmix\n",
        "          # is_mixup = False\n",
        "          # is_cutmix = False\n",
        "          # if mark == 'train':\n",
        "          #     inits = np.random.rand()                    \n",
        "          #     if inits < 0.3:                    \n",
        "          #         img, targets = mixup(img, lab1, lab2, lab3, ALPHA)\n",
        "          #         is_mixup = True\n",
        "          #         if is_plot_m:                    \n",
        "          #             plot_img(img)\n",
        "          #             is_plot_m = False #plots ones\n",
        "          #     elif (inits >= 0.3 and inits < 0.6):\n",
        "          #         img, targets = cutmix(img, lab1, lab2, lab3, ALPHA)\n",
        "          #         is_cutmix = True\n",
        "          #         if is_plot_c:                    \n",
        "          #             plot_img(img)\n",
        "          #             is_plot_c = False #plots ones                        \n",
        "              #################################              \n",
        "          \n",
        "          \n",
        "          with torch.set_grad_enabled(mark == 'train'): #True, False is Cool\n",
        "              outputs1,outputs2,outputs3 = model(img.float())                                      \n",
        "              loss1 = criterion(outputs1,lab1)\n",
        "              loss2 = criterion(outputs2,lab2)\n",
        "              loss3 = criterion(outputs3,lab3)\n",
        "              optimizer.zero_grad()\n",
        "\n",
        "              if mark == 'train':\n",
        "                  # if is_mixup:                            \n",
        "                  #     loss = mixup_criterion(outputs1,outputs2,outputs3, targets)                             \n",
        "                  #     loss_mixup += torch.stack(loss).sum().item()\n",
        "                  # if is_cutmix:                            \n",
        "                  #     loss = cutmix_criterion(outputs1,outputs2,outputs3, targets)\n",
        "                  #     loss_cutmix += torch.stack(loss).sum().item()                           \n",
        "                  #else:                            \n",
        "                  running_loss += loss1+loss2+loss3        \n",
        "                  running_acc += (outputs1.argmax(1)==lab1).float().mean()\n",
        "                  running_acc += (outputs2.argmax(1)==lab2).float().mean()\n",
        "                  running_acc += (outputs3.argmax(1)==lab3).float().mean()\n",
        "              else:\n",
        "                  valid_loss += loss1+loss2+loss3                         \n",
        "                  valid_acc += (outputs1.argmax(1)==lab1).float().mean()\n",
        "                  valid_acc += (outputs2.argmax(1)==lab2).float().mean()\n",
        "                  valid_acc += (outputs3.argmax(1)==lab3).float().mean()                         \n",
        "          \n",
        "          if mark == 'train':\n",
        "              # if is_mixup or is_cutmix:\n",
        "              #     torch.stack(loss).sum().backward() \n",
        "              # else:\n",
        "              (loss1+loss2+loss3).backward()                 \n",
        "              optimizer.step()   \n",
        "              #scheduler.step() #CyclicLR   \n",
        "\n",
        "      if mark == 'train':\n",
        "          df.loc[(epoch, 'acc'), fold[i]] = running_acc.item()/(len(dataloader)*3)\n",
        "          df.loc[(epoch, 'loss'), fold[i]] = running_loss.item()/len(dataloader)      \n",
        "      else:\n",
        "          df.loc[(epoch, 'acc_val'), fold[i]] = valid_acc.item()/(len(dataloader)*3)\n",
        "          df.loc[(epoch, 'loss_val'), fold[i]] = valid_loss.item()/len(dataloader) \n",
        "\n",
        "    print('\\n--------------------------------------------------\\n')\n",
        "    scheduler.step(valid_loss) #mode min    \n",
        "    acc, loss = running_acc/(len(dataloader)*3), running_loss/len(dataloader)\n",
        "    acc_v, loss_v = valid_acc/(len(dataloader)*3),valid_loss/len(dataloader)   \n",
        "    print('acc : {:.2f}%, loss : {:.4f},  Vla_acc : {:.2f}%, Val_loss : {:.4f}'.format(acc, loss, acc_v, loss_v))"
      ],
      "execution_count": 0,
      "outputs": []
    },
    {
      "cell_type": "code",
      "metadata": {
        "id": "UDfb5vD8HYMX",
        "colab_type": "code",
        "colab": {}
      },
      "source": [
        "torch.save(model.state_dict(),'resnext50_32x4d_50_64*64_sample5_batch64_nopre_AdamW_shulde_min_crop.pth')"
      ] ,
      "execution_count": 0,
      "outputs": []
    }
  ]
}
