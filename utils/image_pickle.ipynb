{
  "nbformat": 4,
  "nbformat_minor": 0,
  "metadata": {
    "colab": {
      "name": "image_pickle.ipynb",
      "provenance": [],
      "collapsed_sections": [],
      "authorship_tag": "ABX9TyMCePrqNvGZZT6gOysrEtOQ"
    },
    "kernelspec": {
      "name": "python3",
      "display_name": "Python 3"
    }
  },
  "cells": [
    {
      "cell_type": "code",
      "metadata": {
        "id": "40VGM2Rqhagy",
        "colab_type": "code",
        "colab": {}
      },
      "source": [
        "import pandas as pd\n",
        "import joblib\n",
        "import glob\n",
        "from tqdm import tqdm\n",
        "\n",
        "\n",
        "PATH = '/content/drive/My Drive/Bengali/data/'\n",
        "\"\"\"\n",
        "glob.glob('/content/drive/My Drive/Bengali/data/train_*.parquet')\n",
        "\n",
        "['/content/drive/My Drive/Bengali/data/train_image_data_0.parquet',\n",
        "  '/content/drive/My Drive/Bengali/data/train_image_data_3.parquet',\n",
        "  '/content/drive/My Drive/Bengali/data/train_image_data_1.parquet',\n",
        "  '/content/drive/My Drive/Bengali/data/train_image_data_2.parquet']\n",
        "\n",
        "Модуль glob находит все пути,\n",
        "совпадающие с заданным шаблоном в соответствии с правилами, \n",
        "используемыми оболочкой Unix. Обрабатываются символы \"*\" и тд....  \n",
        "\"\"\"\n",
        "files = glob.glob(PATH + 'train_*.parquet')\n",
        "for f in files:\n",
        "  df = pd.read_parquet(f)#, engine='fastparquet')\n",
        "  image_ids = df.image_id.values\n",
        "  df = df.drop(\"image_id\", axis=1)\n",
        "  image_array = df.values\n",
        "  for j, image_id in tqdm(enumerate(image_ids), total=len(image_ids)):\n",
        "    joblib.dump(image_array[j, :], PATH + f\"/image_pickles/{image_id}.pkl\")"
      ],
      "execution_count": 0,
      "outputs": []
    }
  ]
}