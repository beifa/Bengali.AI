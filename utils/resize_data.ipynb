{
  "nbformat": 4,
  "nbformat_minor": 0,
  "metadata": {
    "colab": {
      "name": "resize_data.ipynb",
      "provenance": [],
      "collapsed_sections": [],
      "mount_file_id": "1RasxqUcYabkSGK24QRQXE4-NyNyUnkPg",
      "authorship_tag": "ABX9TyOTr3AafoxNUo5CF3fhs7l2"
    },
    "kernelspec": {
      "name": "python3",
      "display_name": "Python 3"
    }
  },
  "cells": [
    {
      "cell_type": "code",
      "metadata": {
        "id": "fs4bCATNya47",
        "colab_type": "code",
        "colab": {}
      },
      "source": [
        "import cv2\n",
        "import gc\n",
        "import numpy as np\n",
        "import pandas as pd\n",
        "import matplotlib.pyplot as plt\n",
        "from tqdm import tqdm\n",
        "import albumentations as A\n",
        "PATH = '/content/drive/My Drive/Bengali/data/'\n",
        "PATH_RESIZE = '/content/drive/My Drive/Bengali/data/resize/'"
      ],
      "execution_count": 0,
      "outputs": []
    },
    {
      "cell_type": "code",
      "metadata": {
        "id": "-wl8_sWSaYGn",
        "colab_type": "code",
        "colab": {}
      },
      "source": [
        "def Resize(df,size=64):\n",
        "    resized = {} \n",
        "    df = df.set_index('image_id')\n",
        "    for i in tqdm(range(df.shape[0])):\n",
        "        image = cv2.resize(df.loc[df.index[i]].values.reshape(137,236),(size,size))\n",
        "        resized[df.index[i]] = image.reshape(-1)\n",
        "    resized = pd.DataFrame(resized).T.reset_index()\n",
        "    resized.columns = resized.columns.astype(str)\n",
        "    resized.rename(columns={'index':'image_id'},inplace=True)\n",
        "    return resized"
      ],
      "execution_count": 0,
      "outputs": []
    },
    {
      "cell_type": "markdown",
      "metadata": {
        "id": "PawA-vsyANDR",
        "colab_type": "text"
      },
      "source": [
        "#128, 64, 42"
      ]
    },
    {
      "cell_type": "code",
      "metadata": {
        "id": "Vg03Nywraa9R",
        "colab_type": "code",
        "outputId": "84c657c0-7cf3-485a-a1b9-e0d966223d63",
        "colab": {
          "base_uri": "https://localhost:8080/",
          "height": 101
        }
      },
      "source": [
        "for size in [128]:#[128, 82, 68, 42]:\n",
        "  print(f'Resize: {size}')\n",
        "  for num, dt in enumerate(['train_image_data_0.parquet', 'train_image_data_1.parquet',\n",
        "                              'train_image_data_2.parquet', 'train_image_data_3.parquet']):\n",
        "    data = pd.read_parquet(PATH + f'{dt}')        \n",
        "    r = Resize(data, size)\n",
        "    r.to_feather(PATH + f'train_data_{num}_{size}.feather')\n",
        "    del data\n",
        "    del r\n",
        "    gc.collect()"
      ],
      "execution_count": 0,
      "outputs": [
        {
          "output_type": "stream",
          "text": [
            "Resize: 128\n"
          ],
          "name": "stdout"
        },
        {
          "output_type": "stream",
          "text": [
            "100%|██████████| 50210/50210 [00:27<00:00, 1800.30it/s]\n",
            "100%|██████████| 50210/50210 [00:39<00:00, 1283.42it/s]\n",
            "100%|██████████| 50210/50210 [01:21<00:00, 619.16it/s]\n",
            "100%|██████████| 50210/50210 [01:18<00:00, 635.64it/s]\n"
          ],
          "name": "stderr"
        }
      ]
    },
    {
      "cell_type": "code",
      "metadata": {
        "id": "OqnyOh8RPWgG",
        "colab_type": "code",
        "colab": {}
      },
      "source": [
        "def resize(df, size=64):\n",
        "  \"\"\"code from kaggle\"\"\"\"\n",
        "  resized = {}\n",
        "  resize_size=64\n",
        "  angle=0    \n",
        "  for i in tqdm(range(df.shape[0])):\n",
        "    #image = cv2.resize(df.loc[df.index[i]].values.reshape(137,236),(size,size),None,fx=0.5,fy=0.5,interpolation=cv2.INTER_AREA)\n",
        "    image=df.loc[df.index[i]].values.reshape(137,236)\n",
        "    #Centering\n",
        "    image_center = tuple(np.array(image.shape[1::-1]) / 2)\n",
        "    matrix = cv2.getRotationMatrix2D(image_center, angle, 1.0)\n",
        "    image = cv2.warpAffine(image, matrix, image.shape[1::-1], flags=cv2.INTER_LINEAR,\n",
        "                    borderMode=cv2.BORDER_CONSTANT, borderValue=(0, 0, 0))\n",
        "    #Scaling\n",
        "    matrix = cv2.getRotationMatrix2D(image_center, 0, 1.0)\n",
        "    image = cv2.warpAffine(image, matrix, image.shape[1::-1], flags=cv2.INTER_LINEAR,\n",
        "                    borderMode=cv2.BORDER_CONSTANT, borderValue=(0, 0, 0))\n",
        "    #Removing Blur\n",
        "    #aug = A.GaussianBlur(p=1.0)\n",
        "    #image = aug(image=image)['image']\n",
        "    #Noise Removing\n",
        "    #augNoise=A.MultiplicativeNoise(p=1.0)\n",
        "    #image = augNoise(image=image)['image']\n",
        "    #Removing Distortion\n",
        "    #augDist=A.ElasticTransform(sigma=50, alpha=1, alpha_affine=10, p=1.0)\n",
        "    #image = augDist(image=image)['image']\n",
        "    #Brightness\n",
        "    augBright=A.RandomBrightnessContrast(p=1.0)\n",
        "    image = augBright(image=image)['image']\n",
        "    _, thresh = cv2.threshold(image, 30, 255, cv2.THRESH_BINARY_INV + cv2.THRESH_OTSU)\n",
        "    contours, _ = cv2.findContours(thresh,cv2.RETR_LIST,cv2.CHAIN_APPROX_SIMPLE)[-2:]\n",
        "\n",
        "    idx = 0 \n",
        "    ls_xmin = []\n",
        "    ls_ymin = []\n",
        "    ls_xmax = []\n",
        "    ls_ymax = []\n",
        "    for cnt in contours:\n",
        "        idx += 1\n",
        "        x,y,w,h = cv2.boundingRect(cnt)\n",
        "        ls_xmin.append(x)\n",
        "        ls_ymin.append(y)\n",
        "        ls_xmax.append(x + w)\n",
        "        ls_ymax.append(y + h)\n",
        "    xmin = min(ls_xmin)\n",
        "    ymin = min(ls_ymin)\n",
        "    xmax = max(ls_xmax)\n",
        "    ymax = max(ls_ymax)\n",
        "\n",
        "    roi = image[ymin:ymax,xmin:xmax]\n",
        "    resized_roi = cv2.resize(roi, (resize_size, resize_size),interpolation=cv2.INTER_AREA)\n",
        "    #image=affine_image(image)\n",
        "    #image= crop_resize(image)\n",
        "    #image = cv2.resize(image,(size,size),interpolation=cv2.INTER_AREA)\n",
        "    #image=resize_image(image,(64,64))\n",
        "    #image = cv2.resize(image,(size,size),interpolation=cv2.INTER_AREA)\n",
        "    #gaussian_3 = cv2.GaussianBlur(image, (5,5), cv2.BORDER_DEFAULT) #unblur\n",
        "    #image = cv2.addWeighted(image, 1.5, gaussian_3, -0.5, 0, image)\n",
        "    #kernel = np.array([[-1,-1,-1], [-1,9,-1], [-1,-1,-1]]) #filter\n",
        "    #image = cv2.filter2D(image, -1, kernel)\n",
        "    #ret,image = cv2.threshold(image, 128, 255, cv2.THRESH_BINARY_INV+cv2.THRESH_OTSU)\n",
        "    resized[df.index[i]] = resized_roi.reshape(-1)   \n",
        "  resized = pd.DataFrame(resized).T\n",
        "  return resized"
      ],
      "execution_count": 0,
      "outputs": []
    },
    {
      "cell_type": "code",
      "metadata": {
        "id": "9BdSDG8WlIow",
        "colab_type": "code",
        "outputId": "44328694-3599-4fec-cd83-c27a4c34ffc1",
        "colab": {
          "base_uri": "https://localhost:8080/",
          "height": 84
        }
      },
      "source": [
        "size = 64\n",
        "for num, dt in enumerate(['train_image_data_0.parquet', 'train_image_data_1.parquet',\n",
        "                          'train_image_data_2.parquet', 'train_image_data_3.parquet']):\n",
        "  data = pd.read_parquet(PATH + f'{dt}').drop(['image_id'], axis=1)       \n",
        "  r = resize(data, size=size)\n",
        "  r.columns = [str(i) for i in r.columns]\n",
        "  r.to_feather(PATH_RESIZE + f'train_data_{num}_{size}_new.feather')\n",
        "  del data\n",
        "  del r\n",
        "  gc.collect()"
      ],
      "execution_count": 0,
      "outputs": [
        {
          "output_type": "stream",
          "text": [
            "100%|██████████| 50210/50210 [01:41<00:00, 493.84it/s]\n",
            "100%|██████████| 50210/50210 [02:12<00:00, 378.09it/s]\n",
            "100%|██████████| 50210/50210 [02:11<00:00, 380.63it/s]\n",
            "100%|██████████| 50210/50210 [02:13<00:00, 375.78it/s]\n"
          ],
          "name": "stderr"
        }
      ]
    },
    {
      "cell_type": "code",
      "metadata": {
        "id": "_j-jrAWSDCkO",
        "colab_type": "code",
        "outputId": "abf9fc85-98c5-4174-8b32-a8c6d83d0c2d",
        "colab": {
          "base_uri": "https://localhost:8080/",
          "height": 422
        }
      },
      "source": [
        "r = pd.read_feather(PATH_RESIZE + 'train_data_0_64_new.feather')\n",
        "r"
      ],
      "execution_count": 0,
      "outputs": [
        {
          "output_type": "execute_result",
          "data": {
            "text/html": [
              "<div>\n",
              "<style scoped>\n",
              "    .dataframe tbody tr th:only-of-type {\n",
              "        vertical-align: middle;\n",
              "    }\n",
              "\n",
              "    .dataframe tbody tr th {\n",
              "        vertical-align: top;\n",
              "    }\n",
              "\n",
              "    .dataframe thead th {\n",
              "        text-align: right;\n",
              "    }\n",
              "</style>\n",
              "<table border=\"1\" class=\"dataframe\">\n",
              "  <thead>\n",
              "    <tr style=\"text-align: right;\">\n",
              "      <th></th>\n",
              "      <th>0</th>\n",
              "      <th>1</th>\n",
              "      <th>2</th>\n",
              "      <th>3</th>\n",
              "      <th>4</th>\n",
              "      <th>5</th>\n",
              "      <th>6</th>\n",
              "      <th>7</th>\n",
              "      <th>8</th>\n",
              "      <th>9</th>\n",
              "      <th>10</th>\n",
              "      <th>11</th>\n",
              "      <th>12</th>\n",
              "      <th>13</th>\n",
              "      <th>14</th>\n",
              "      <th>15</th>\n",
              "      <th>16</th>\n",
              "      <th>17</th>\n",
              "      <th>18</th>\n",
              "      <th>19</th>\n",
              "      <th>20</th>\n",
              "      <th>21</th>\n",
              "      <th>22</th>\n",
              "      <th>23</th>\n",
              "      <th>24</th>\n",
              "      <th>25</th>\n",
              "      <th>26</th>\n",
              "      <th>27</th>\n",
              "      <th>28</th>\n",
              "      <th>29</th>\n",
              "      <th>30</th>\n",
              "      <th>31</th>\n",
              "      <th>32</th>\n",
              "      <th>33</th>\n",
              "      <th>34</th>\n",
              "      <th>35</th>\n",
              "      <th>36</th>\n",
              "      <th>37</th>\n",
              "      <th>38</th>\n",
              "      <th>39</th>\n",
              "      <th>...</th>\n",
              "      <th>4056</th>\n",
              "      <th>4057</th>\n",
              "      <th>4058</th>\n",
              "      <th>4059</th>\n",
              "      <th>4060</th>\n",
              "      <th>4061</th>\n",
              "      <th>4062</th>\n",
              "      <th>4063</th>\n",
              "      <th>4064</th>\n",
              "      <th>4065</th>\n",
              "      <th>4066</th>\n",
              "      <th>4067</th>\n",
              "      <th>4068</th>\n",
              "      <th>4069</th>\n",
              "      <th>4070</th>\n",
              "      <th>4071</th>\n",
              "      <th>4072</th>\n",
              "      <th>4073</th>\n",
              "      <th>4074</th>\n",
              "      <th>4075</th>\n",
              "      <th>4076</th>\n",
              "      <th>4077</th>\n",
              "      <th>4078</th>\n",
              "      <th>4079</th>\n",
              "      <th>4080</th>\n",
              "      <th>4081</th>\n",
              "      <th>4082</th>\n",
              "      <th>4083</th>\n",
              "      <th>4084</th>\n",
              "      <th>4085</th>\n",
              "      <th>4086</th>\n",
              "      <th>4087</th>\n",
              "      <th>4088</th>\n",
              "      <th>4089</th>\n",
              "      <th>4090</th>\n",
              "      <th>4091</th>\n",
              "      <th>4092</th>\n",
              "      <th>4093</th>\n",
              "      <th>4094</th>\n",
              "      <th>4095</th>\n",
              "    </tr>\n",
              "  </thead>\n",
              "  <tbody>\n",
              "    <tr>\n",
              "      <th>0</th>\n",
              "      <td>246</td>\n",
              "      <td>246</td>\n",
              "      <td>247</td>\n",
              "      <td>247</td>\n",
              "      <td>247</td>\n",
              "      <td>246</td>\n",
              "      <td>247</td>\n",
              "      <td>245</td>\n",
              "      <td>247</td>\n",
              "      <td>247</td>\n",
              "      <td>246</td>\n",
              "      <td>245</td>\n",
              "      <td>248</td>\n",
              "      <td>247</td>\n",
              "      <td>247</td>\n",
              "      <td>247</td>\n",
              "      <td>248</td>\n",
              "      <td>248</td>\n",
              "      <td>249</td>\n",
              "      <td>247</td>\n",
              "      <td>246</td>\n",
              "      <td>246</td>\n",
              "      <td>246</td>\n",
              "      <td>245</td>\n",
              "      <td>242</td>\n",
              "      <td>221</td>\n",
              "      <td>159</td>\n",
              "      <td>104</td>\n",
              "      <td>73</td>\n",
              "      <td>76</td>\n",
              "      <td>98</td>\n",
              "      <td>139</td>\n",
              "      <td>190</td>\n",
              "      <td>226</td>\n",
              "      <td>242</td>\n",
              "      <td>245</td>\n",
              "      <td>246</td>\n",
              "      <td>246</td>\n",
              "      <td>246</td>\n",
              "      <td>248</td>\n",
              "      <td>...</td>\n",
              "      <td>226</td>\n",
              "      <td>246</td>\n",
              "      <td>249</td>\n",
              "      <td>249</td>\n",
              "      <td>249</td>\n",
              "      <td>249</td>\n",
              "      <td>249</td>\n",
              "      <td>249</td>\n",
              "      <td>249</td>\n",
              "      <td>249</td>\n",
              "      <td>249</td>\n",
              "      <td>249</td>\n",
              "      <td>249</td>\n",
              "      <td>249</td>\n",
              "      <td>249</td>\n",
              "      <td>249</td>\n",
              "      <td>249</td>\n",
              "      <td>249</td>\n",
              "      <td>249</td>\n",
              "      <td>249</td>\n",
              "      <td>249</td>\n",
              "      <td>249</td>\n",
              "      <td>249</td>\n",
              "      <td>249</td>\n",
              "      <td>249</td>\n",
              "      <td>249</td>\n",
              "      <td>249</td>\n",
              "      <td>249</td>\n",
              "      <td>249</td>\n",
              "      <td>249</td>\n",
              "      <td>249</td>\n",
              "      <td>249</td>\n",
              "      <td>249</td>\n",
              "      <td>249</td>\n",
              "      <td>249</td>\n",
              "      <td>249</td>\n",
              "      <td>249</td>\n",
              "      <td>249</td>\n",
              "      <td>249</td>\n",
              "      <td>248</td>\n",
              "    </tr>\n",
              "    <tr>\n",
              "      <th>1</th>\n",
              "      <td>255</td>\n",
              "      <td>255</td>\n",
              "      <td>255</td>\n",
              "      <td>255</td>\n",
              "      <td>255</td>\n",
              "      <td>255</td>\n",
              "      <td>255</td>\n",
              "      <td>255</td>\n",
              "      <td>255</td>\n",
              "      <td>255</td>\n",
              "      <td>255</td>\n",
              "      <td>255</td>\n",
              "      <td>255</td>\n",
              "      <td>255</td>\n",
              "      <td>255</td>\n",
              "      <td>255</td>\n",
              "      <td>255</td>\n",
              "      <td>255</td>\n",
              "      <td>255</td>\n",
              "      <td>255</td>\n",
              "      <td>255</td>\n",
              "      <td>255</td>\n",
              "      <td>255</td>\n",
              "      <td>255</td>\n",
              "      <td>255</td>\n",
              "      <td>255</td>\n",
              "      <td>255</td>\n",
              "      <td>255</td>\n",
              "      <td>255</td>\n",
              "      <td>255</td>\n",
              "      <td>255</td>\n",
              "      <td>255</td>\n",
              "      <td>255</td>\n",
              "      <td>255</td>\n",
              "      <td>255</td>\n",
              "      <td>254</td>\n",
              "      <td>253</td>\n",
              "      <td>252</td>\n",
              "      <td>252</td>\n",
              "      <td>249</td>\n",
              "      <td>...</td>\n",
              "      <td>255</td>\n",
              "      <td>255</td>\n",
              "      <td>255</td>\n",
              "      <td>255</td>\n",
              "      <td>255</td>\n",
              "      <td>255</td>\n",
              "      <td>255</td>\n",
              "      <td>255</td>\n",
              "      <td>255</td>\n",
              "      <td>255</td>\n",
              "      <td>255</td>\n",
              "      <td>255</td>\n",
              "      <td>255</td>\n",
              "      <td>255</td>\n",
              "      <td>255</td>\n",
              "      <td>255</td>\n",
              "      <td>255</td>\n",
              "      <td>255</td>\n",
              "      <td>255</td>\n",
              "      <td>255</td>\n",
              "      <td>255</td>\n",
              "      <td>255</td>\n",
              "      <td>255</td>\n",
              "      <td>252</td>\n",
              "      <td>215</td>\n",
              "      <td>165</td>\n",
              "      <td>208</td>\n",
              "      <td>185</td>\n",
              "      <td>187</td>\n",
              "      <td>255</td>\n",
              "      <td>255</td>\n",
              "      <td>255</td>\n",
              "      <td>255</td>\n",
              "      <td>255</td>\n",
              "      <td>255</td>\n",
              "      <td>255</td>\n",
              "      <td>255</td>\n",
              "      <td>255</td>\n",
              "      <td>255</td>\n",
              "      <td>255</td>\n",
              "    </tr>\n",
              "    <tr>\n",
              "      <th>2</th>\n",
              "      <td>245</td>\n",
              "      <td>246</td>\n",
              "      <td>246</td>\n",
              "      <td>245</td>\n",
              "      <td>243</td>\n",
              "      <td>243</td>\n",
              "      <td>243</td>\n",
              "      <td>244</td>\n",
              "      <td>245</td>\n",
              "      <td>244</td>\n",
              "      <td>244</td>\n",
              "      <td>244</td>\n",
              "      <td>245</td>\n",
              "      <td>245</td>\n",
              "      <td>245</td>\n",
              "      <td>244</td>\n",
              "      <td>244</td>\n",
              "      <td>244</td>\n",
              "      <td>244</td>\n",
              "      <td>245</td>\n",
              "      <td>246</td>\n",
              "      <td>246</td>\n",
              "      <td>245</td>\n",
              "      <td>244</td>\n",
              "      <td>243</td>\n",
              "      <td>243</td>\n",
              "      <td>245</td>\n",
              "      <td>240</td>\n",
              "      <td>237</td>\n",
              "      <td>241</td>\n",
              "      <td>239</td>\n",
              "      <td>240</td>\n",
              "      <td>237</td>\n",
              "      <td>227</td>\n",
              "      <td>217</td>\n",
              "      <td>206</td>\n",
              "      <td>182</td>\n",
              "      <td>154</td>\n",
              "      <td>138</td>\n",
              "      <td>130</td>\n",
              "      <td>...</td>\n",
              "      <td>191</td>\n",
              "      <td>197</td>\n",
              "      <td>207</td>\n",
              "      <td>216</td>\n",
              "      <td>223</td>\n",
              "      <td>224</td>\n",
              "      <td>236</td>\n",
              "      <td>240</td>\n",
              "      <td>241</td>\n",
              "      <td>242</td>\n",
              "      <td>243</td>\n",
              "      <td>242</td>\n",
              "      <td>243</td>\n",
              "      <td>245</td>\n",
              "      <td>242</td>\n",
              "      <td>239</td>\n",
              "      <td>243</td>\n",
              "      <td>245</td>\n",
              "      <td>234</td>\n",
              "      <td>223</td>\n",
              "      <td>223</td>\n",
              "      <td>220</td>\n",
              "      <td>225</td>\n",
              "      <td>238</td>\n",
              "      <td>242</td>\n",
              "      <td>243</td>\n",
              "      <td>244</td>\n",
              "      <td>244</td>\n",
              "      <td>244</td>\n",
              "      <td>243</td>\n",
              "      <td>243</td>\n",
              "      <td>243</td>\n",
              "      <td>231</td>\n",
              "      <td>188</td>\n",
              "      <td>129</td>\n",
              "      <td>95</td>\n",
              "      <td>94</td>\n",
              "      <td>111</td>\n",
              "      <td>150</td>\n",
              "      <td>208</td>\n",
              "    </tr>\n",
              "    <tr>\n",
              "      <th>3</th>\n",
              "      <td>245</td>\n",
              "      <td>248</td>\n",
              "      <td>246</td>\n",
              "      <td>247</td>\n",
              "      <td>246</td>\n",
              "      <td>246</td>\n",
              "      <td>246</td>\n",
              "      <td>243</td>\n",
              "      <td>241</td>\n",
              "      <td>245</td>\n",
              "      <td>232</td>\n",
              "      <td>173</td>\n",
              "      <td>120</td>\n",
              "      <td>105</td>\n",
              "      <td>117</td>\n",
              "      <td>193</td>\n",
              "      <td>239</td>\n",
              "      <td>245</td>\n",
              "      <td>245</td>\n",
              "      <td>245</td>\n",
              "      <td>246</td>\n",
              "      <td>244</td>\n",
              "      <td>241</td>\n",
              "      <td>234</td>\n",
              "      <td>224</td>\n",
              "      <td>205</td>\n",
              "      <td>172</td>\n",
              "      <td>139</td>\n",
              "      <td>104</td>\n",
              "      <td>78</td>\n",
              "      <td>62</td>\n",
              "      <td>64</td>\n",
              "      <td>81</td>\n",
              "      <td>118</td>\n",
              "      <td>169</td>\n",
              "      <td>213</td>\n",
              "      <td>239</td>\n",
              "      <td>243</td>\n",
              "      <td>244</td>\n",
              "      <td>245</td>\n",
              "      <td>...</td>\n",
              "      <td>248</td>\n",
              "      <td>248</td>\n",
              "      <td>249</td>\n",
              "      <td>247</td>\n",
              "      <td>247</td>\n",
              "      <td>248</td>\n",
              "      <td>248</td>\n",
              "      <td>248</td>\n",
              "      <td>248</td>\n",
              "      <td>247</td>\n",
              "      <td>249</td>\n",
              "      <td>249</td>\n",
              "      <td>248</td>\n",
              "      <td>247</td>\n",
              "      <td>246</td>\n",
              "      <td>245</td>\n",
              "      <td>245</td>\n",
              "      <td>244</td>\n",
              "      <td>232</td>\n",
              "      <td>216</td>\n",
              "      <td>202</td>\n",
              "      <td>200</td>\n",
              "      <td>206</td>\n",
              "      <td>219</td>\n",
              "      <td>234</td>\n",
              "      <td>243</td>\n",
              "      <td>245</td>\n",
              "      <td>247</td>\n",
              "      <td>249</td>\n",
              "      <td>249</td>\n",
              "      <td>248</td>\n",
              "      <td>247</td>\n",
              "      <td>249</td>\n",
              "      <td>250</td>\n",
              "      <td>248</td>\n",
              "      <td>250</td>\n",
              "      <td>250</td>\n",
              "      <td>249</td>\n",
              "      <td>250</td>\n",
              "      <td>250</td>\n",
              "    </tr>\n",
              "    <tr>\n",
              "      <th>4</th>\n",
              "      <td>230</td>\n",
              "      <td>230</td>\n",
              "      <td>230</td>\n",
              "      <td>230</td>\n",
              "      <td>230</td>\n",
              "      <td>230</td>\n",
              "      <td>230</td>\n",
              "      <td>230</td>\n",
              "      <td>230</td>\n",
              "      <td>230</td>\n",
              "      <td>230</td>\n",
              "      <td>230</td>\n",
              "      <td>230</td>\n",
              "      <td>230</td>\n",
              "      <td>230</td>\n",
              "      <td>230</td>\n",
              "      <td>230</td>\n",
              "      <td>230</td>\n",
              "      <td>230</td>\n",
              "      <td>230</td>\n",
              "      <td>230</td>\n",
              "      <td>230</td>\n",
              "      <td>230</td>\n",
              "      <td>230</td>\n",
              "      <td>230</td>\n",
              "      <td>230</td>\n",
              "      <td>230</td>\n",
              "      <td>230</td>\n",
              "      <td>230</td>\n",
              "      <td>230</td>\n",
              "      <td>230</td>\n",
              "      <td>230</td>\n",
              "      <td>230</td>\n",
              "      <td>230</td>\n",
              "      <td>230</td>\n",
              "      <td>230</td>\n",
              "      <td>230</td>\n",
              "      <td>229</td>\n",
              "      <td>226</td>\n",
              "      <td>225</td>\n",
              "      <td>...</td>\n",
              "      <td>216</td>\n",
              "      <td>149</td>\n",
              "      <td>41</td>\n",
              "      <td>48</td>\n",
              "      <td>168</td>\n",
              "      <td>224</td>\n",
              "      <td>226</td>\n",
              "      <td>227</td>\n",
              "      <td>229</td>\n",
              "      <td>230</td>\n",
              "      <td>230</td>\n",
              "      <td>230</td>\n",
              "      <td>230</td>\n",
              "      <td>230</td>\n",
              "      <td>230</td>\n",
              "      <td>230</td>\n",
              "      <td>230</td>\n",
              "      <td>230</td>\n",
              "      <td>230</td>\n",
              "      <td>230</td>\n",
              "      <td>230</td>\n",
              "      <td>230</td>\n",
              "      <td>230</td>\n",
              "      <td>230</td>\n",
              "      <td>230</td>\n",
              "      <td>230</td>\n",
              "      <td>230</td>\n",
              "      <td>230</td>\n",
              "      <td>230</td>\n",
              "      <td>230</td>\n",
              "      <td>230</td>\n",
              "      <td>230</td>\n",
              "      <td>230</td>\n",
              "      <td>230</td>\n",
              "      <td>230</td>\n",
              "      <td>230</td>\n",
              "      <td>230</td>\n",
              "      <td>230</td>\n",
              "      <td>230</td>\n",
              "      <td>230</td>\n",
              "    </tr>\n",
              "    <tr>\n",
              "      <th>...</th>\n",
              "      <td>...</td>\n",
              "      <td>...</td>\n",
              "      <td>...</td>\n",
              "      <td>...</td>\n",
              "      <td>...</td>\n",
              "      <td>...</td>\n",
              "      <td>...</td>\n",
              "      <td>...</td>\n",
              "      <td>...</td>\n",
              "      <td>...</td>\n",
              "      <td>...</td>\n",
              "      <td>...</td>\n",
              "      <td>...</td>\n",
              "      <td>...</td>\n",
              "      <td>...</td>\n",
              "      <td>...</td>\n",
              "      <td>...</td>\n",
              "      <td>...</td>\n",
              "      <td>...</td>\n",
              "      <td>...</td>\n",
              "      <td>...</td>\n",
              "      <td>...</td>\n",
              "      <td>...</td>\n",
              "      <td>...</td>\n",
              "      <td>...</td>\n",
              "      <td>...</td>\n",
              "      <td>...</td>\n",
              "      <td>...</td>\n",
              "      <td>...</td>\n",
              "      <td>...</td>\n",
              "      <td>...</td>\n",
              "      <td>...</td>\n",
              "      <td>...</td>\n",
              "      <td>...</td>\n",
              "      <td>...</td>\n",
              "      <td>...</td>\n",
              "      <td>...</td>\n",
              "      <td>...</td>\n",
              "      <td>...</td>\n",
              "      <td>...</td>\n",
              "      <td>...</td>\n",
              "      <td>...</td>\n",
              "      <td>...</td>\n",
              "      <td>...</td>\n",
              "      <td>...</td>\n",
              "      <td>...</td>\n",
              "      <td>...</td>\n",
              "      <td>...</td>\n",
              "      <td>...</td>\n",
              "      <td>...</td>\n",
              "      <td>...</td>\n",
              "      <td>...</td>\n",
              "      <td>...</td>\n",
              "      <td>...</td>\n",
              "      <td>...</td>\n",
              "      <td>...</td>\n",
              "      <td>...</td>\n",
              "      <td>...</td>\n",
              "      <td>...</td>\n",
              "      <td>...</td>\n",
              "      <td>...</td>\n",
              "      <td>...</td>\n",
              "      <td>...</td>\n",
              "      <td>...</td>\n",
              "      <td>...</td>\n",
              "      <td>...</td>\n",
              "      <td>...</td>\n",
              "      <td>...</td>\n",
              "      <td>...</td>\n",
              "      <td>...</td>\n",
              "      <td>...</td>\n",
              "      <td>...</td>\n",
              "      <td>...</td>\n",
              "      <td>...</td>\n",
              "      <td>...</td>\n",
              "      <td>...</td>\n",
              "      <td>...</td>\n",
              "      <td>...</td>\n",
              "      <td>...</td>\n",
              "      <td>...</td>\n",
              "      <td>...</td>\n",
              "    </tr>\n",
              "    <tr>\n",
              "      <th>50205</th>\n",
              "      <td>215</td>\n",
              "      <td>215</td>\n",
              "      <td>215</td>\n",
              "      <td>215</td>\n",
              "      <td>215</td>\n",
              "      <td>215</td>\n",
              "      <td>215</td>\n",
              "      <td>215</td>\n",
              "      <td>214</td>\n",
              "      <td>214</td>\n",
              "      <td>215</td>\n",
              "      <td>215</td>\n",
              "      <td>215</td>\n",
              "      <td>214</td>\n",
              "      <td>213</td>\n",
              "      <td>212</td>\n",
              "      <td>213</td>\n",
              "      <td>212</td>\n",
              "      <td>213</td>\n",
              "      <td>213</td>\n",
              "      <td>213</td>\n",
              "      <td>213</td>\n",
              "      <td>213</td>\n",
              "      <td>214</td>\n",
              "      <td>213</td>\n",
              "      <td>212</td>\n",
              "      <td>213</td>\n",
              "      <td>212</td>\n",
              "      <td>213</td>\n",
              "      <td>214</td>\n",
              "      <td>213</td>\n",
              "      <td>211</td>\n",
              "      <td>213</td>\n",
              "      <td>214</td>\n",
              "      <td>209</td>\n",
              "      <td>207</td>\n",
              "      <td>201</td>\n",
              "      <td>203</td>\n",
              "      <td>195</td>\n",
              "      <td>204</td>\n",
              "      <td>...</td>\n",
              "      <td>213</td>\n",
              "      <td>213</td>\n",
              "      <td>214</td>\n",
              "      <td>213</td>\n",
              "      <td>215</td>\n",
              "      <td>215</td>\n",
              "      <td>213</td>\n",
              "      <td>214</td>\n",
              "      <td>214</td>\n",
              "      <td>214</td>\n",
              "      <td>214</td>\n",
              "      <td>214</td>\n",
              "      <td>213</td>\n",
              "      <td>184</td>\n",
              "      <td>120</td>\n",
              "      <td>162</td>\n",
              "      <td>211</td>\n",
              "      <td>212</td>\n",
              "      <td>214</td>\n",
              "      <td>214</td>\n",
              "      <td>215</td>\n",
              "      <td>213</td>\n",
              "      <td>213</td>\n",
              "      <td>214</td>\n",
              "      <td>215</td>\n",
              "      <td>215</td>\n",
              "      <td>215</td>\n",
              "      <td>215</td>\n",
              "      <td>215</td>\n",
              "      <td>215</td>\n",
              "      <td>214</td>\n",
              "      <td>212</td>\n",
              "      <td>213</td>\n",
              "      <td>214</td>\n",
              "      <td>214</td>\n",
              "      <td>214</td>\n",
              "      <td>215</td>\n",
              "      <td>215</td>\n",
              "      <td>215</td>\n",
              "      <td>215</td>\n",
              "    </tr>\n",
              "    <tr>\n",
              "      <th>50206</th>\n",
              "      <td>233</td>\n",
              "      <td>233</td>\n",
              "      <td>233</td>\n",
              "      <td>233</td>\n",
              "      <td>234</td>\n",
              "      <td>232</td>\n",
              "      <td>231</td>\n",
              "      <td>231</td>\n",
              "      <td>232</td>\n",
              "      <td>231</td>\n",
              "      <td>229</td>\n",
              "      <td>228</td>\n",
              "      <td>231</td>\n",
              "      <td>227</td>\n",
              "      <td>229</td>\n",
              "      <td>230</td>\n",
              "      <td>228</td>\n",
              "      <td>227</td>\n",
              "      <td>225</td>\n",
              "      <td>224</td>\n",
              "      <td>223</td>\n",
              "      <td>215</td>\n",
              "      <td>208</td>\n",
              "      <td>216</td>\n",
              "      <td>225</td>\n",
              "      <td>227</td>\n",
              "      <td>226</td>\n",
              "      <td>226</td>\n",
              "      <td>224</td>\n",
              "      <td>224</td>\n",
              "      <td>227</td>\n",
              "      <td>227</td>\n",
              "      <td>228</td>\n",
              "      <td>234</td>\n",
              "      <td>234</td>\n",
              "      <td>234</td>\n",
              "      <td>234</td>\n",
              "      <td>234</td>\n",
              "      <td>234</td>\n",
              "      <td>234</td>\n",
              "      <td>...</td>\n",
              "      <td>137</td>\n",
              "      <td>71</td>\n",
              "      <td>137</td>\n",
              "      <td>202</td>\n",
              "      <td>226</td>\n",
              "      <td>229</td>\n",
              "      <td>227</td>\n",
              "      <td>228</td>\n",
              "      <td>229</td>\n",
              "      <td>232</td>\n",
              "      <td>232</td>\n",
              "      <td>232</td>\n",
              "      <td>232</td>\n",
              "      <td>233</td>\n",
              "      <td>232</td>\n",
              "      <td>232</td>\n",
              "      <td>232</td>\n",
              "      <td>232</td>\n",
              "      <td>232</td>\n",
              "      <td>232</td>\n",
              "      <td>233</td>\n",
              "      <td>233</td>\n",
              "      <td>233</td>\n",
              "      <td>233</td>\n",
              "      <td>233</td>\n",
              "      <td>233</td>\n",
              "      <td>233</td>\n",
              "      <td>234</td>\n",
              "      <td>234</td>\n",
              "      <td>234</td>\n",
              "      <td>234</td>\n",
              "      <td>234</td>\n",
              "      <td>234</td>\n",
              "      <td>234</td>\n",
              "      <td>234</td>\n",
              "      <td>234</td>\n",
              "      <td>234</td>\n",
              "      <td>234</td>\n",
              "      <td>234</td>\n",
              "      <td>234</td>\n",
              "    </tr>\n",
              "    <tr>\n",
              "      <th>50207</th>\n",
              "      <td>238</td>\n",
              "      <td>235</td>\n",
              "      <td>233</td>\n",
              "      <td>239</td>\n",
              "      <td>242</td>\n",
              "      <td>237</td>\n",
              "      <td>237</td>\n",
              "      <td>238</td>\n",
              "      <td>233</td>\n",
              "      <td>235</td>\n",
              "      <td>238</td>\n",
              "      <td>237</td>\n",
              "      <td>236</td>\n",
              "      <td>238</td>\n",
              "      <td>238</td>\n",
              "      <td>237</td>\n",
              "      <td>233</td>\n",
              "      <td>238</td>\n",
              "      <td>238</td>\n",
              "      <td>235</td>\n",
              "      <td>232</td>\n",
              "      <td>208</td>\n",
              "      <td>94</td>\n",
              "      <td>112</td>\n",
              "      <td>216</td>\n",
              "      <td>233</td>\n",
              "      <td>234</td>\n",
              "      <td>236</td>\n",
              "      <td>238</td>\n",
              "      <td>241</td>\n",
              "      <td>234</td>\n",
              "      <td>233</td>\n",
              "      <td>236</td>\n",
              "      <td>235</td>\n",
              "      <td>236</td>\n",
              "      <td>231</td>\n",
              "      <td>232</td>\n",
              "      <td>237</td>\n",
              "      <td>237</td>\n",
              "      <td>238</td>\n",
              "      <td>...</td>\n",
              "      <td>120</td>\n",
              "      <td>104</td>\n",
              "      <td>208</td>\n",
              "      <td>243</td>\n",
              "      <td>242</td>\n",
              "      <td>242</td>\n",
              "      <td>242</td>\n",
              "      <td>243</td>\n",
              "      <td>243</td>\n",
              "      <td>243</td>\n",
              "      <td>245</td>\n",
              "      <td>245</td>\n",
              "      <td>244</td>\n",
              "      <td>243</td>\n",
              "      <td>241</td>\n",
              "      <td>243</td>\n",
              "      <td>244</td>\n",
              "      <td>244</td>\n",
              "      <td>243</td>\n",
              "      <td>242</td>\n",
              "      <td>242</td>\n",
              "      <td>243</td>\n",
              "      <td>244</td>\n",
              "      <td>245</td>\n",
              "      <td>245</td>\n",
              "      <td>244</td>\n",
              "      <td>245</td>\n",
              "      <td>246</td>\n",
              "      <td>244</td>\n",
              "      <td>243</td>\n",
              "      <td>244</td>\n",
              "      <td>243</td>\n",
              "      <td>243</td>\n",
              "      <td>244</td>\n",
              "      <td>245</td>\n",
              "      <td>244</td>\n",
              "      <td>240</td>\n",
              "      <td>237</td>\n",
              "      <td>242</td>\n",
              "      <td>243</td>\n",
              "    </tr>\n",
              "    <tr>\n",
              "      <th>50208</th>\n",
              "      <td>234</td>\n",
              "      <td>230</td>\n",
              "      <td>232</td>\n",
              "      <td>228</td>\n",
              "      <td>223</td>\n",
              "      <td>227</td>\n",
              "      <td>224</td>\n",
              "      <td>217</td>\n",
              "      <td>209</td>\n",
              "      <td>205</td>\n",
              "      <td>198</td>\n",
              "      <td>187</td>\n",
              "      <td>171</td>\n",
              "      <td>169</td>\n",
              "      <td>174</td>\n",
              "      <td>171</td>\n",
              "      <td>171</td>\n",
              "      <td>162</td>\n",
              "      <td>152</td>\n",
              "      <td>148</td>\n",
              "      <td>146</td>\n",
              "      <td>148</td>\n",
              "      <td>147</td>\n",
              "      <td>149</td>\n",
              "      <td>152</td>\n",
              "      <td>152</td>\n",
              "      <td>154</td>\n",
              "      <td>157</td>\n",
              "      <td>161</td>\n",
              "      <td>165</td>\n",
              "      <td>172</td>\n",
              "      <td>185</td>\n",
              "      <td>194</td>\n",
              "      <td>199</td>\n",
              "      <td>205</td>\n",
              "      <td>215</td>\n",
              "      <td>222</td>\n",
              "      <td>223</td>\n",
              "      <td>225</td>\n",
              "      <td>228</td>\n",
              "      <td>...</td>\n",
              "      <td>237</td>\n",
              "      <td>237</td>\n",
              "      <td>237</td>\n",
              "      <td>237</td>\n",
              "      <td>240</td>\n",
              "      <td>238</td>\n",
              "      <td>237</td>\n",
              "      <td>237</td>\n",
              "      <td>236</td>\n",
              "      <td>234</td>\n",
              "      <td>233</td>\n",
              "      <td>231</td>\n",
              "      <td>232</td>\n",
              "      <td>232</td>\n",
              "      <td>230</td>\n",
              "      <td>231</td>\n",
              "      <td>229</td>\n",
              "      <td>229</td>\n",
              "      <td>230</td>\n",
              "      <td>230</td>\n",
              "      <td>227</td>\n",
              "      <td>227</td>\n",
              "      <td>224</td>\n",
              "      <td>224</td>\n",
              "      <td>230</td>\n",
              "      <td>234</td>\n",
              "      <td>233</td>\n",
              "      <td>233</td>\n",
              "      <td>235</td>\n",
              "      <td>234</td>\n",
              "      <td>232</td>\n",
              "      <td>234</td>\n",
              "      <td>229</td>\n",
              "      <td>215</td>\n",
              "      <td>195</td>\n",
              "      <td>164</td>\n",
              "      <td>159</td>\n",
              "      <td>151</td>\n",
              "      <td>151</td>\n",
              "      <td>176</td>\n",
              "    </tr>\n",
              "    <tr>\n",
              "      <th>50209</th>\n",
              "      <td>246</td>\n",
              "      <td>188</td>\n",
              "      <td>232</td>\n",
              "      <td>253</td>\n",
              "      <td>150</td>\n",
              "      <td>128</td>\n",
              "      <td>165</td>\n",
              "      <td>252</td>\n",
              "      <td>255</td>\n",
              "      <td>255</td>\n",
              "      <td>255</td>\n",
              "      <td>255</td>\n",
              "      <td>255</td>\n",
              "      <td>255</td>\n",
              "      <td>255</td>\n",
              "      <td>255</td>\n",
              "      <td>255</td>\n",
              "      <td>255</td>\n",
              "      <td>255</td>\n",
              "      <td>255</td>\n",
              "      <td>255</td>\n",
              "      <td>255</td>\n",
              "      <td>255</td>\n",
              "      <td>255</td>\n",
              "      <td>255</td>\n",
              "      <td>255</td>\n",
              "      <td>255</td>\n",
              "      <td>255</td>\n",
              "      <td>255</td>\n",
              "      <td>255</td>\n",
              "      <td>255</td>\n",
              "      <td>255</td>\n",
              "      <td>255</td>\n",
              "      <td>255</td>\n",
              "      <td>255</td>\n",
              "      <td>255</td>\n",
              "      <td>255</td>\n",
              "      <td>255</td>\n",
              "      <td>255</td>\n",
              "      <td>255</td>\n",
              "      <td>...</td>\n",
              "      <td>255</td>\n",
              "      <td>255</td>\n",
              "      <td>255</td>\n",
              "      <td>243</td>\n",
              "      <td>205</td>\n",
              "      <td>169</td>\n",
              "      <td>144</td>\n",
              "      <td>136</td>\n",
              "      <td>134</td>\n",
              "      <td>140</td>\n",
              "      <td>186</td>\n",
              "      <td>233</td>\n",
              "      <td>255</td>\n",
              "      <td>255</td>\n",
              "      <td>255</td>\n",
              "      <td>255</td>\n",
              "      <td>255</td>\n",
              "      <td>255</td>\n",
              "      <td>255</td>\n",
              "      <td>255</td>\n",
              "      <td>255</td>\n",
              "      <td>255</td>\n",
              "      <td>255</td>\n",
              "      <td>255</td>\n",
              "      <td>255</td>\n",
              "      <td>255</td>\n",
              "      <td>255</td>\n",
              "      <td>255</td>\n",
              "      <td>255</td>\n",
              "      <td>255</td>\n",
              "      <td>255</td>\n",
              "      <td>255</td>\n",
              "      <td>255</td>\n",
              "      <td>255</td>\n",
              "      <td>255</td>\n",
              "      <td>255</td>\n",
              "      <td>255</td>\n",
              "      <td>255</td>\n",
              "      <td>255</td>\n",
              "      <td>255</td>\n",
              "    </tr>\n",
              "  </tbody>\n",
              "</table>\n",
              "<p>50210 rows × 4096 columns</p>\n",
              "</div>"
            ],
            "text/plain": [
              "         0    1    2    3    4    5  ...  4090  4091  4092  4093  4094  4095\n",
              "0      246  246  247  247  247  246  ...   249   249   249   249   249   248\n",
              "1      255  255  255  255  255  255  ...   255   255   255   255   255   255\n",
              "2      245  246  246  245  243  243  ...   129    95    94   111   150   208\n",
              "3      245  248  246  247  246  246  ...   248   250   250   249   250   250\n",
              "4      230  230  230  230  230  230  ...   230   230   230   230   230   230\n",
              "...    ...  ...  ...  ...  ...  ...  ...   ...   ...   ...   ...   ...   ...\n",
              "50205  215  215  215  215  215  215  ...   214   214   215   215   215   215\n",
              "50206  233  233  233  233  234  232  ...   234   234   234   234   234   234\n",
              "50207  238  235  233  239  242  237  ...   245   244   240   237   242   243\n",
              "50208  234  230  232  228  223  227  ...   195   164   159   151   151   176\n",
              "50209  246  188  232  253  150  128  ...   255   255   255   255   255   255\n",
              "\n",
              "[50210 rows x 4096 columns]"
            ]
          },
          "metadata": {
            "tags": []
          },
          "execution_count": 15
        }
      ]
    },
    {
      "cell_type": "code",
      "metadata": {
        "id": "PUiC8MV8qqiq",
        "colab_type": "code",
        "outputId": "a9e18c2f-812c-4e6d-f3e3-d94307be13ac",
        "colab": {
          "base_uri": "https://localhost:8080/",
          "height": 34
        }
      },
      "source": [
        "data = pd.read_parquet(PATH + 'train_image_data_0.parquet').drop(['image_id'], axis=1)\n",
        "r = resize(data, size=size, need_progress_bar=True)"
      ],
      "execution_count": 0,
      "outputs": [
        {
          "output_type": "stream",
          "text": [
            "100%|██████████| 50210/50210 [01:42<00:00, 492.04it/s]\n"
          ],
          "name": "stderr"
        }
      ]
    },
    {
      "cell_type": "code",
      "metadata": {
        "id": "q3TooQ0QxqCk",
        "colab_type": "code",
        "colab": {}
      },
      "source": [
        "r.columns = [str(i) for i in r.columns]\n",
        "r.to_feather(PATH_RESIZE + f'train_data_{num}_{size}_new.feather')"
      ],
      "execution_count": 0,
      "outputs": []
    },
    {
      "cell_type": "code",
      "metadata": {
        "id": "QVQEzRCmxqJ0",
        "colab_type": "code",
        "outputId": "511c934c-5210-4df5-ac1d-9476d546a799",
        "colab": {
          "base_uri": "https://localhost:8080/",
          "height": 285
        }
      },
      "source": [
        "plt.imshow(r.iloc[0].values.reshape(64, 64))"
      ],
      "execution_count": 0,
      "outputs": [
        {
          "output_type": "execute_result",
          "data": {
            "text/plain": [
              "<matplotlib.image.AxesImage at 0x7f2a266e7b00>"
            ]
          },
          "metadata": {
            "tags": []
          },
          "execution_count": 29
        },
        {
          "output_type": "display_data",
          "data": {
            "image/png": "[encoded data removed]",
            "text/plain": [
              "<Figure size 432x288 with 1 Axes>"
            ]
          },
          "metadata": {
            "tags": []
          }
        }
      ]
    },
    {
      "cell_type": "markdown",
      "metadata": {
        "id": "6rgrmItE0nF9",
        "colab_type": "text"
      },
      "source": [
        "#in risizezz\n",
        "\n",
        "test same line in code before"
      ]
    },
    {
      "cell_type": "code",
      "metadata": {
        "id": "gGoayj1C0M2m",
        "colab_type": "code",
        "outputId": "ba8a5c45-aaca-4524-f6b9-c4c5faadb1d5",
        "colab": {
          "base_uri": "https://localhost:8080/",
          "height": 263
        }
      },
      "source": [
        "img = data.iloc[5].values.reshape(137, 236)\n",
        "plt.imshow(img)"
      ],
      "execution_count": 0,
      "outputs": [
        {
          "output_type": "execute_result",
          "data": {
            "text/plain": [
              "<matplotlib.image.AxesImage at 0x7f2a277670b8>"
            ]
          },
          "metadata": {
            "tags": []
          },
          "execution_count": 150
        },
        {
          "output_type": "display_data",
          "data": {
            "image/png": "[encoded data removed]",
            "text/plain": [
              "<Figure size 432x288 with 1 Axes>"
            ]
          },
          "metadata": {
            "tags": []
          }
        }
      ]
    },
    {
      "cell_type": "code",
      "metadata": {
        "id": "z5MGpDf00sf-",
        "colab_type": "code",
        "outputId": "3da1d034-d76b-434b-ee0d-268b871a3392",
        "colab": {
          "base_uri": "https://localhost:8080/",
          "height": 263
        }
      },
      "source": [
        "angle=0\n",
        "image_center = tuple(np.array(img.shape[1::-1]) / 2)\n",
        "matrix = cv2.getRotationMatrix2D(image_center, angle, 1.0)\n",
        "image = cv2.warpAffine(img, matrix, img.shape[1::-1], flags=cv2.INTER_LINEAR,\n",
        "                borderMode=cv2.BORDER_CONSTANT, borderValue=(0, 0, 0))\n",
        "matrix = cv2.getRotationMatrix2D(image_center, 0, 1.0)\n",
        "image = cv2.warpAffine(image, matrix, image.shape[1::-1], flags=cv2.INTER_LINEAR,\n",
        "                            borderMode=cv2.BORDER_CONSTANT, borderValue=(0, 0, 0))\n",
        "plt.imshow(image)"
      ],
      "execution_count": 0,
      "outputs": [
        {
          "output_type": "execute_result",
          "data": {
            "text/plain": [
              "<matplotlib.image.AxesImage at 0x7f2a267929b0>"
            ]
          },
          "metadata": {
            "tags": []
          },
          "execution_count": 41
        },
        {
          "output_type": "display_data",
          "data": {
            "image/png": "[encoded data removed]",
            "text/plain": [
              "<Figure size 432x288 with 1 Axes>"
            ]
          },
          "metadata": {
            "tags": []
          }
        }
      ]
    },
    {
      "cell_type": "markdown",
      "metadata": {
        "id": "TVnL0pU8GRu9",
        "colab_type": "text"
      },
      "source": [
        "## threshold"
      ]
    },
    {
      "cell_type": "code",
      "metadata": {
        "id": "FA66Sa7V8LAo",
        "colab_type": "code",
        "outputId": "9a8b9fe2-6f0e-4f15-fb98-0ebd30e77a21",
        "colab": {
          "base_uri": "https://localhost:8080/",
          "height": 263
        }
      },
      "source": [
        "_, b = cv2.threshold(img, 45, 255, cv2.THRESH_BINARY_INV)\n",
        "plt.imshow(b)"
      ],
      "execution_count": 0,
      "outputs": [
        {
          "output_type": "execute_result",
          "data": {
            "text/plain": [
              "<matplotlib.image.AxesImage at 0x7f2a277f03c8>"
            ]
          },
          "metadata": {
            "tags": []
          },
          "execution_count": 153
        },
        {
          "output_type": "display_data",
          "data": {
            "image/png": "[encoded data removed]",
            "text/plain": [
              "<Figure size 432x288 with 1 Axes>"
            ]
          },
          "metadata": {
            "tags": []
          }
        }
      ]
    },
    {
      "cell_type": "code",
      "metadata": {
        "id": "9XcK2oDk8K-U",
        "colab_type": "code",
        "outputId": "71b905aa-e8d8-4e89-a760-760afcb822a9",
        "colab": {
          "base_uri": "https://localhost:8080/",
          "height": 263
        }
      },
      "source": [
        "b = cv2.adaptiveThreshold(image, 65,cv2.THRESH_BINARY_INV,cv2.THRESH_BINARY_INV, 3, 5)\n",
        "plt.imshow(b)"
      ],
      "execution_count": 0,
      "outputs": [
        {
          "output_type": "execute_result",
          "data": {
            "text/plain": [
              "<matplotlib.image.AxesImage at 0x7f2a27a03470>"
            ]
          },
          "metadata": {
            "tags": []
          },
          "execution_count": 83
        },
        {
          "output_type": "display_data",
          "data": {
            "image/png": "[encoded data removed]",
            "text/plain": [
              "<Figure size 432x288 with 1 Axes>"
            ]
          },
          "metadata": {
            "tags": []
          }
        }
      ]
    },
    {
      "cell_type": "code",
      "metadata": {
        "id": "wBS7a08F8K70",
        "colab_type": "code",
        "colab": {}
      },
      "source": [
        "cv2.ADAPTIVE_THRESH_GAUSSIAN_C"
      ],
      "execution_count": 0,
      "outputs": []
    },
    {
      "cell_type": "code",
      "metadata": {
        "id": "Yok_mVoR8K5d",
        "colab_type": "code",
        "outputId": "d4ae7a17-9d2e-46f7-dbd8-e8c85a7ae3c7",
        "colab": {
          "base_uri": "https://localhost:8080/",
          "height": 263
        }
      },
      "source": [
        "b = cv2.adaptiveThreshold(image, 65,cv2.ADAPTIVE_THRESH_GAUSSIAN_C, cv2.THRESH_BINARY, 3, 6)\n",
        "plt.imshow(b)"
      ],
      "execution_count": 0,
      "outputs": [
        {
          "output_type": "execute_result",
          "data": {
            "text/plain": [
              "<matplotlib.image.AxesImage at 0x7f2a2669c400>"
            ]
          },
          "metadata": {
            "tags": []
          },
          "execution_count": 98
        },
        {
          "output_type": "display_data",
          "data": {
            "image/png": "[encoded data removed]",
            "text/plain": [
              "<Figure size 432x288 with 1 Axes>"
            ]
          },
          "metadata": {
            "tags": []
          }
        }
      ]
    },
    {
      "cell_type": "code",
      "metadata": {
        "id": "0Td_m9Cz8K2k",
        "colab_type": "code",
        "outputId": "060407b6-cc73-4eaa-ffbc-db54bee213a4",
        "colab": {
          "base_uri": "https://localhost:8080/",
          "height": 263
        }
      },
      "source": [
        "b = cv2.adaptiveThreshold(image, 65,cv2.ADAPTIVE_THRESH_MEAN_C, cv2.THRESH_BINARY, 3, 15)\n",
        "plt.imshow(b)"
      ],
      "execution_count": 0,
      "outputs": [
        {
          "output_type": "execute_result",
          "data": {
            "text/plain": [
              "<matplotlib.image.AxesImage at 0x7f2a27362a90>"
            ]
          },
          "metadata": {
            "tags": []
          },
          "execution_count": 115
        },
        {
          "output_type": "display_data",
          "data": {
            "image/png": "[encoded data removed]",
            "text/plain": [
              "<Figure size 432x288 with 1 Axes>"
            ]
          },
          "metadata": {
            "tags": []
          }
        }
      ]
    },
    {
      "cell_type": "markdown",
      "metadata": {
        "id": "WkiIyz5AGUDE",
        "colab_type": "text"
      },
      "source": [
        "## contur"
      ]
    },
    {
      "cell_type": "code",
      "metadata": {
        "id": "PZINzk1j8KyO",
        "colab_type": "code",
        "outputId": "e18e8477-5472-471f-e121-c780d96010cf",
        "colab": {
          "base_uri": "https://localhost:8080/",
          "height": 285
        }
      },
      "source": [
        "_, thresh = cv2.threshold(image, 85, 255, cv2.THRESH_BINARY_INV)\n",
        "contours, _ = cv2.findContours(thresh,cv2.RETR_LIST,cv2.CHAIN_APPROX_SIMPLE)[-2:]\n",
        "\n",
        "idx = 0 \n",
        "ls_xmin = []\n",
        "ls_ymin = []\n",
        "ls_xmax = []\n",
        "ls_ymax = []\n",
        "for cnt in contours:\n",
        "    idx += 1\n",
        "    x,y,w,h = cv2.boundingRect(cnt)\n",
        "    ls_xmin.append(x)\n",
        "    ls_ymin.append(y)\n",
        "    ls_xmax.append(x + w)\n",
        "    ls_ymax.append(y + h)\n",
        "xmin = min(ls_xmin)\n",
        "ymin = min(ls_ymin)\n",
        "xmax = max(ls_xmax)\n",
        "ymax = max(ls_ymax)\n",
        "\n",
        "roi = image[ymin:ymax,xmin:xmax]\n",
        "resized_roi = cv2.resize(roi, (64, 64),interpolation=cv2.INTER_AREA)\n",
        "plt.imshow(resized_roi)"
      ],
      "execution_count": 0,
      "outputs": [
        {
          "output_type": "execute_result",
          "data": {
            "text/plain": [
              "<matplotlib.image.AxesImage at 0x7f2a2749c400>"
            ]
          },
          "metadata": {
            "tags": []
          },
          "execution_count": 134
        },
        {
          "output_type": "display_data",
          "data": {
            "image/png": "[encoded data removed]",
            "text/plain": [
              "<Figure size 432x288 with 1 Axes>"
            ]
          },
          "metadata": {
            "tags": []
          }
        }
      ]
    },
    {
      "cell_type": "code",
      "metadata": {
        "id": "N0M8-Cq7LuN1",
        "colab_type": "code",
        "outputId": "af512828-cc02-4cf8-e0e0-ea95cdd48957",
        "colab": {
          "base_uri": "https://localhost:8080/",
          "height": 285
        }
      },
      "source": [
        "img = resized_roi\n",
        "_, b = cv2.threshold(img, 80, 255, cv2.THRESH_BINARY_INV)\n",
        "plt.imshow(b)"
      ],
      "execution_count": 0,
      "outputs": [
        {
          "output_type": "execute_result",
          "data": {
            "text/plain": [
              "<matplotlib.image.AxesImage at 0x7f2a27742b00>"
            ]
          },
          "metadata": {
            "tags": []
          },
          "execution_count": 148
        },
        {
          "output_type": "display_data",
          "data": {
            "image/png": "[encoded data removed]",
            "text/plain": [
              "<Figure size 432x288 with 1 Axes>"
            ]
          },
          "metadata": {
            "tags": []
          }
        }
      ]
    },
    {
      "cell_type": "code",
      "metadata": {
        "id": "XYOwHVg0aeId",
        "colab_type": "code",
        "outputId": "9b491658-d0ee-4582-b331-3fcd3e5ad00d",
        "colab": {
          "base_uri": "https://localhost:8080/",
          "height": 263
        }
      },
      "source": [
        "img = data.iloc[6].values.reshape(137, 236)\n",
        "plt.imshow(img)"
      ],
      "execution_count": 0,
      "outputs": [
        {
          "output_type": "execute_result",
          "data": {
            "text/plain": [
              "<matplotlib.image.AxesImage at 0x7f2a26f44470>"
            ]
          },
          "metadata": {
            "tags": []
          },
          "execution_count": 160
        },
        {
          "output_type": "display_data",
          "data": {
            "image/png": "[encoded data removed]",
            "text/plain": [
              "<Figure size 432x288 with 1 Axes>"
            ]
          },
          "metadata": {
            "tags": []
          }
        }
      ]
    },
    {
      "cell_type": "code",
      "metadata": {
        "id": "uqX9j_BZbXTF",
        "colab_type": "code",
        "outputId": "475c3749-81b6-4e08-edfe-7b151ad14ce7",
        "colab": {
          "base_uri": "https://localhost:8080/",
          "height": 254
        }
      },
      "source": [
        "train = pd.read_csv(PATH + 'train.csv')\n",
        "train.head(7)"
      ],
      "execution_count": 0,
      "outputs": [
        {
          "output_type": "execute_result",
          "data": {
            "text/html": [
              "<div>\n",
              "<style scoped>\n",
              "    .dataframe tbody tr th:only-of-type {\n",
              "        vertical-align: middle;\n",
              "    }\n",
              "\n",
              "    .dataframe tbody tr th {\n",
              "        vertical-align: top;\n",
              "    }\n",
              "\n",
              "    .dataframe thead th {\n",
              "        text-align: right;\n",
              "    }\n",
              "</style>\n",
              "<table border=\"1\" class=\"dataframe\">\n",
              "  <thead>\n",
              "    <tr style=\"text-align: right;\">\n",
              "      <th></th>\n",
              "      <th>image_id</th>\n",
              "      <th>grapheme_root</th>\n",
              "      <th>vowel_diacritic</th>\n",
              "      <th>consonant_diacritic</th>\n",
              "      <th>grapheme</th>\n",
              "    </tr>\n",
              "  </thead>\n",
              "  <tbody>\n",
              "    <tr>\n",
              "      <th>0</th>\n",
              "      <td>Train_0</td>\n",
              "      <td>15</td>\n",
              "      <td>9</td>\n",
              "      <td>5</td>\n",
              "      <td>ক্ট্রো</td>\n",
              "    </tr>\n",
              "    <tr>\n",
              "      <th>1</th>\n",
              "      <td>Train_1</td>\n",
              "      <td>159</td>\n",
              "      <td>0</td>\n",
              "      <td>0</td>\n",
              "      <td>হ</td>\n",
              "    </tr>\n",
              "    <tr>\n",
              "      <th>2</th>\n",
              "      <td>Train_2</td>\n",
              "      <td>22</td>\n",
              "      <td>3</td>\n",
              "      <td>5</td>\n",
              "      <td>খ্রী</td>\n",
              "    </tr>\n",
              "    <tr>\n",
              "      <th>3</th>\n",
              "      <td>Train_3</td>\n",
              "      <td>53</td>\n",
              "      <td>2</td>\n",
              "      <td>2</td>\n",
              "      <td>র্টি</td>\n",
              "    </tr>\n",
              "    <tr>\n",
              "      <th>4</th>\n",
              "      <td>Train_4</td>\n",
              "      <td>71</td>\n",
              "      <td>9</td>\n",
              "      <td>5</td>\n",
              "      <td>থ্রো</td>\n",
              "    </tr>\n",
              "    <tr>\n",
              "      <th>5</th>\n",
              "      <td>Train_5</td>\n",
              "      <td>153</td>\n",
              "      <td>9</td>\n",
              "      <td>0</td>\n",
              "      <td>স্পো</td>\n",
              "    </tr>\n",
              "    <tr>\n",
              "      <th>6</th>\n",
              "      <td>Train_6</td>\n",
              "      <td>52</td>\n",
              "      <td>2</td>\n",
              "      <td>0</td>\n",
              "      <td>ঞ্জি</td>\n",
              "    </tr>\n",
              "  </tbody>\n",
              "</table>\n",
              "</div>"
            ],
            "text/plain": [
              "  image_id  grapheme_root  vowel_diacritic  consonant_diacritic grapheme\n",
              "0  Train_0             15                9                    5   ক্ট্রো\n",
              "1  Train_1            159                0                    0        হ\n",
              "2  Train_2             22                3                    5     খ্রী\n",
              "3  Train_3             53                2                    2     র্টি\n",
              "4  Train_4             71                9                    5     থ্রো\n",
              "5  Train_5            153                9                    0     স্পো\n",
              "6  Train_6             52                2                    0     ঞ্জি"
            ]
          },
          "metadata": {
            "tags": []
          },
          "execution_count": 159
        }
      ]
    },
    {
      "cell_type": "code",
      "metadata": {
        "id": "nygURNumY5zw",
        "colab_type": "code",
        "outputId": "b857205c-f257-4dce-b9ea-ee1ac9d19fb7",
        "colab": {
          "base_uri": "https://localhost:8080/",
          "height": 263
        }
      },
      "source": [
        "_, b = cv2.threshold(img, 45, 255, cv2.THRESH_BINARY_INV)\n",
        "plt.imshow(b)"
      ],
      "execution_count": 0,
      "outputs": [
        {
          "output_type": "execute_result",
          "data": {
            "text/plain": [
              "<matplotlib.image.AxesImage at 0x7f2a26ef0320>"
            ]
          },
          "metadata": {
            "tags": []
          },
          "execution_count": 161
        },
        {
          "output_type": "display_data",
          "data": {
            "image/png": "[encoded data removed]",
            "text/plain": [
              "<Figure size 432x288 with 1 Axes>"
            ]
          },
          "metadata": {
            "tags": []
          }
        }
      ]
    },
    {
      "cell_type": "code",
      "metadata": {
        "id": "82ceMGOdagCF",
        "colab_type": "code",
        "colab": {}
      },
      "source": [
        "contours, _ = cv2.findContours(b,cv2.RETR_LIST,cv2.CHAIN_APPROX_SIMPLE)[-2:]"
      ],
      "execution_count": 0,
      "outputs": []
    },
    {
      "cell_type": "code",
      "metadata": {
        "id": "S3G1hUlzan2V",
        "colab_type": "code",
        "colab": {}
      },
      "source": [
        "for cnt in contours:\n",
        "    idx += 1    \n",
        "    x,y,w,h = cv2.boundingRect(cnt)"
      ],
      "execution_count": 0,
      "outputs": []
    },
    {
      "cell_type": "code",
      "metadata": {
        "id": "QWkCaFsCd-WX",
        "colab_type": "code",
        "colab": {}
      },
      "source": [
        "for c in contours:\n",
        "    # get the bounding rect\n",
        "    x, y, w, h = cv2.boundingRect(c)\n",
        "    # draw a green rectangle to visualize the bounding rect\n",
        "    cv2.rectangle(img, (x, y), (x+w, y+h), (0, 255, 0), 2)"
      ],
      "execution_count": 0,
      "outputs": []
    },
    {
      "cell_type": "code",
      "metadata": {
        "id": "KJ5S1zhFc4sS",
        "colab_type": "code",
        "colab": {}
      },
      "source": [
        "for c in contours:\n",
        "    # get the bounding rect\n",
        "    x, y, w, h = cv2.boundingRect(c)\n",
        "    # draw a green rectangle to visualize the bounding rect\n",
        "    cv2.rectangle(img, (x, y), (x+w, y+h), (0, 255, 0), 2)\n",
        "\n",
        "    # get the min area rect\n",
        "    rect = cv2.minAreaRect(c)\n",
        "    box = cv2.boxPoints(rect)\n",
        "    # convert all coordinates floating point values to int\n",
        "    box = np.int0(box)\n",
        "    # draw a red 'nghien' rectangle\n",
        "    cv2.drawContours(img, [box], 0, (0, 0, 255))\n",
        "\n",
        "    # finally, get the min enclosing circle\n",
        "    (x, y), radius = cv2.minEnclosingCircle(c)\n",
        "    # convert all values to int\n",
        "    center = (int(x), int(y))\n",
        "    radius = int(radius)\n",
        "    # and draw the circle in blue\n",
        "    img = cv2.circle(img, center, radius, (255, 0, 0), 2)\n",
        "\n",
        "print(len(contours))\n",
        "cv2.drawContours(img, contours, -1, (255, 255, 0), 1)"
      ],
      "execution_count": 0,
      "outputs": []
    }
  ]
}