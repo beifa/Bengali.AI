{
  "nbformat": 4,
  "nbformat_minor": 0,
  "metadata": {
    "colab": {
      "name": "MultilabelStratifiedKFold.ipynb",
      "provenance": [],
      "collapsed_sections": [],
      "authorship_tag": "ABX9TyMZe0rlcwO45OF3xeaIrYr8"
    },
    "kernelspec": {
      "name": "python3",
      "display_name": "Python 3"
    }
  },
  "cells": [
    {
      "cell_type": "code",
      "metadata": {
        "id": "ytkffeL_gY22",
        "colab_type": "code",
        "colab": {}
      },
      "source": [
        "!pip install iterative-stratification"
      ],
      "execution_count": 0,
      "outputs": []
    },
    {
      "cell_type": "code",
      "metadata": {
        "id": "wuiIO5Czg6NG",
        "colab_type": "code",
        "colab": {}
      },
      "source": [
        "PATH = '/content/drive/My Drive/Bengali/data/'\n",
        "df = pd.read_csv(PATH + 'train.csv')\n",
        "print(df.head())\n",
        "df = pd.read_csv(PATH + 'train.csv')\n",
        "df.loc[:, 'kfold'] = -1\n",
        "#перемешали выборку\n",
        "df = df.sample(frac=1, random_state=13).reset_index(drop=True)\n",
        "\n",
        "X = df.image_id.values\n",
        "y = df[['grapheme_root', 'vowel_diacritic', 'consonant_diacritic']].values\n",
        "\n",
        "mskf = MultilabelStratifiedKFold(n_splits=5)\n",
        "\n",
        "for fold, (trn_, val_) in enumerate(mskf.split(X, y)):\n",
        "  print(\"TRAIN: \", trn_, \"VAL: \", val_)\n",
        "  df.loc[val_, \"kfold\"] = fold\n",
        "df.to_csv(PATH + 'train_folds.csv', index = False)"
      ],
      "execution_count": 0,
      "outputs": []
    }
  ]
}