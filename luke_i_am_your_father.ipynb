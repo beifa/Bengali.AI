{
  "nbformat": 4,
  "nbformat_minor": 0,
  "metadata": {
    "kernelspec": {
      "display_name": "Python 3",
      "language": "python",
      "name": "python3"
    },
    "language_info": {
      "codemirror_mode": {
        "name": "ipython",
        "version": 3
      },
      "file_extension": ".py",
      "mimetype": "text/x-python",
      "name": "python",
      "nbconvert_exporter": "python",
      "pygments_lexer": "ipython3",
      "version": "3.6.6"
    },
    "colab": {
      "name": "luke-i-am-your-father.ipynb",
      "provenance": [],
      "collapsed_sections": [],
      "include_colab_link": true
    }
  },
  "cells": [
    {
      "cell_type": "markdown",
      "metadata": {
        "id": "view-in-github",
        "colab_type": "text"
      },
      "source": [
        "<a href=\"https://colab.research.google.com/github/beifa/Bengali.AI/blob/master/luke_i_am_your_father.ipynb\" target=\"_parent\"><img src=\"https://colab.research.google.com/assets/colab-badge.svg\" alt=\"Open In Colab\"/></a>"
      ]
    },
    {
      "cell_type": "markdown",
      "metadata": {
        "id": "ayRON6SMVmZZ",
        "colab_type": "text"
      },
      "source": [
        "Private score 0.0386 ))))\n",
        "\n",
        "Это мой первый шаг."
      ]
    },
    {
      "cell_type": "code",
      "metadata": {
        "_cell_guid": "b1076dfc-b9ad-4769-8c92-a6c4dae69d19",
        "_uuid": "8f2839f25d086af736a60e9eeb907d3b93b6e0e5",
        "id": "cNsQuJEyTm3g",
        "colab_type": "code",
        "outputId": "9890bc5e-5a3b-4197-cb4a-681c5e9c0f2f",
        "colab": {}
      },
      "source": [
        "import numpy as np\n",
        "import pandas as pd \n",
        "import os\n",
        "for dirname, _, filenames in os.walk('/kaggle/input'):\n",
        "    for filename in filenames:\n",
        "        print(os.path.join(dirname, filename))\n",
        "\n",
        "import gc\n",
        "import torch\n",
        "from torch.utils.data import Dataset, DataLoader\n",
        "import torch\n",
        "import torch.nn as nn\n",
        "import torch.nn.functional as F"
      ],
      "execution_count": 0,
      "outputs": [
        {
          "output_type": "stream",
          "text": [
            "/kaggle/input/bengaliai-cv19/test_image_data_0.parquet\n",
            "/kaggle/input/bengaliai-cv19/sample_submission.csv\n",
            "/kaggle/input/bengaliai-cv19/test_image_data_3.parquet\n",
            "/kaggle/input/bengaliai-cv19/train_image_data_0.parquet\n",
            "/kaggle/input/bengaliai-cv19/test_image_data_1.parquet\n",
            "/kaggle/input/bengaliai-cv19/train_image_data_2.parquet\n",
            "/kaggle/input/bengaliai-cv19/train_image_data_3.parquet\n",
            "/kaggle/input/bengaliai-cv19/test_image_data_2.parquet\n",
            "/kaggle/input/bengaliai-cv19/train_image_data_1.parquet\n",
            "/kaggle/input/bengaliai-cv19/class_map.csv\n",
            "/kaggle/input/bengaliai-cv19/test.csv\n",
            "/kaggle/input/bengaliai-cv19/train.csv\n",
            "/kaggle/input/bengali64/test_data_1.feather\n",
            "/kaggle/input/bengali64/test_data_2.feather\n",
            "/kaggle/input/bengali64/test_data_0.feather\n",
            "/kaggle/input/bengali64/train_data_0.feather\n",
            "/kaggle/input/bengali64/train_data_1.feather\n",
            "/kaggle/input/bengali64/train_data_2.feather\n",
            "/kaggle/input/bengali64/train_data_3.feather\n",
            "/kaggle/input/bengali64/test_data_3.feather\n"
          ],
          "name": "stdout"
        }
      ]
    },
    {
      "cell_type": "code",
      "metadata": {
        "_cell_guid": "",
        "_uuid": "",
        "id": "iKq8MEQlTm3n",
        "colab_type": "code",
        "colab": {}
      },
      "source": [
        "sample_submission = pd.read_csv(\"../input/bengaliai-cv19/sample_submission.csv\")\n",
        "test = pd.read_csv(\"../input/bengaliai-cv19/test.csv\")\n",
        "train = pd.read_csv(\"../input/bengaliai-cv19/train.csv\")"
      ],
      "execution_count": 0,
      "outputs": []
    },
    {
      "cell_type": "code",
      "metadata": {
        "id": "uRvkuj4tTm3p",
        "colab_type": "code",
        "colab": {}
      },
      "source": [
        "images = pd.read_feather('/kaggle/input/bengali64/train_data_0.feather')"
      ],
      "execution_count": 0,
      "outputs": []
    },
    {
      "cell_type": "code",
      "metadata": {
        "id": "mEWkctibTm3s",
        "colab_type": "code",
        "colab": {}
      },
      "source": [
        "# train[:50210]"
      ],
      "execution_count": 0,
      "outputs": []
    },
    {
      "cell_type": "code",
      "metadata": {
        "id": "vSkSC-mNTm3v",
        "colab_type": "code",
        "colab": {}
      },
      "source": [
        "#137x236 grayscale images\n",
        "# images.iloc[0, 1:].values.reshape(137, 236).shape"
      ],
      "execution_count": 0,
      "outputs": []
    },
    {
      "cell_type": "code",
      "metadata": {
        "id": "MHL_KuHLTm3y",
        "colab_type": "code",
        "colab": {}
      },
      "source": [
        "class Dataset(Dataset):\n",
        "    def __init__(self, data, label):\n",
        "        self.data = data\n",
        "        self.label = label\n",
        "    def __len__(self):\n",
        "        return len(self.data)\n",
        "    \n",
        "    def __getitem__(self, idx):\n",
        "        #label this is train\n",
        "        lab1 = self.label.grapheme_root.values[idx]\n",
        "        lab2 = self.label.vowel_diacritic.values[idx]\n",
        "        lab3 = self.label.consonant_diacritic.values[idx]\n",
        "        img = self.data.iloc[idx, 1:].values.reshape(64, 64).astype('float')\n",
        "        return img, lab1, lab2, lab3"
      ],
      "execution_count": 0,
      "outputs": []
    },
    {
      "cell_type": "code",
      "metadata": {
        "id": "erNj7UJtTm31",
        "colab_type": "code",
        "colab": {}
      },
      "source": [
        "# data = Dataset(images, train[:50210])\n",
        "# dataloader = DataLoader(data, batch_size=64,\n",
        "#                         shuffle=True)"
      ],
      "execution_count": 0,
      "outputs": []
    },
    {
      "cell_type": "code",
      "metadata": {
        "id": "qY3YSe7yTm33",
        "colab_type": "code",
        "outputId": "84fba87d-7da8-41cc-b770-76a83329f97d",
        "colab": {}
      },
      "source": [
        "class Net(nn.Module):\n",
        "    def __init__(self):\n",
        "        super(Net, self).__init__()\n",
        "        # 1 input image channel, 6 output channels, 3x3 square convolution\n",
        "        # kernel\n",
        "        self.conv1 = nn.Conv2d(1, 32, 3)\n",
        "        #self.banch1 = nn.BatchNorm2d(64)\n",
        "        self.conv2 = nn.Conv2d(32, 16, 3)\n",
        "        # an affine operation: y = Wx + b\n",
        "        #self.banch2 = nn.BatchNorm2d(32)\n",
        "        self.avgpool = nn.AvgPool2d(2)\n",
        "        self.fc0 = nn.Linear(784, 200)  # 6*6 from image dimension\n",
        "        self.fc1 = nn.Linear(200, 168)\n",
        "        self.fc2 = nn.Linear(200, 11)\n",
        "        self.fc3 = nn.Linear(200, 7)\n",
        "        \n",
        "\n",
        "    def forward(self, x):\n",
        "        # Max pooling over a (2, 2) window\n",
        "        x = F.max_pool2d(F.relu(self.conv1(x)), (2, 2))\n",
        "        #x = self.banch1(x)\n",
        "        # If the size is a square you can only specify a single number\n",
        "        x = F.max_pool2d(F.relu(self.conv2(x)), 2)\n",
        "        #x = self.banch2(x)\n",
        "        x = self.avgpool(x)                        \n",
        "        x = x.view(-1, self.num_flat_features(x))\n",
        "        x = self.fc0(x)        \n",
        "        x1 = self.fc1(x)\n",
        "        x2 = self.fc2(x)\n",
        "        x3 = self.fc3(x)\n",
        "        return x1, x2, x3\n",
        "    \n",
        "    def num_flat_features(self, x):\n",
        "        size = x.size()[1:]  # all dimensions except the batch dimension\n",
        "        num_features = 1\n",
        "        for s in size:\n",
        "            num_features *= s\n",
        "        return num_features\n",
        "\n",
        "\n",
        "net = Net()\n",
        "print(net)"
      ],
      "execution_count": 0,
      "outputs": [
        {
          "output_type": "stream",
          "text": [
            "Net(\n",
            "  (conv1): Conv2d(1, 32, kernel_size=(3, 3), stride=(1, 1))\n",
            "  (conv2): Conv2d(32, 16, kernel_size=(3, 3), stride=(1, 1))\n",
            "  (avgpool): AvgPool2d(kernel_size=2, stride=2, padding=0)\n",
            "  (fc0): Linear(in_features=784, out_features=200, bias=True)\n",
            "  (fc1): Linear(in_features=200, out_features=168, bias=True)\n",
            "  (fc2): Linear(in_features=200, out_features=11, bias=True)\n",
            "  (fc3): Linear(in_features=200, out_features=7, bias=True)\n",
            ")\n"
          ],
          "name": "stdout"
        }
      ]
    },
    {
      "cell_type": "code",
      "metadata": {
        "id": "FaINfWMtTm36",
        "colab_type": "code",
        "outputId": "3283bd63-269e-4d8b-cf46-957fc2217b92",
        "colab": {}
      },
      "source": [
        "16*6*6"
      ],
      "execution_count": 0,
      "outputs": [
        {
          "output_type": "execute_result",
          "data": {
            "text/plain": [
              "576"
            ]
          },
          "metadata": {
            "tags": []
          },
          "execution_count": 9
        }
      ]
    },
    {
      "cell_type": "code",
      "metadata": {
        "id": "4OQhUQXBTm39",
        "colab_type": "code",
        "colab": {}
      },
      "source": [
        "optimizer = torch.optim.Adam(net.parameters(), lr=0.1)\n",
        "criterion = nn.CrossEntropyLoss()"
      ],
      "execution_count": 0,
      "outputs": []
    },
    {
      "cell_type": "code",
      "metadata": {
        "id": "xkbVLu0zTm4A",
        "colab_type": "code",
        "outputId": "a87576ed-f892-452a-eea5-ddf680e3e318",
        "colab": {}
      },
      "source": [
        "from tqdm import tqdm\n",
        "running_loss = 0\n",
        "running_acc = 0.0\n",
        "\n",
        "reduced_index = train[:50210].groupby(['grapheme_root', 'vowel_diacritic', 'consonant_diacritic']).apply(lambda x: x.sample(5)).image_id.values\n",
        "reduced_train = train.loc[train.image_id.isin(reduced_index)]\n",
        "reduced_data = images.loc[images.image_id.isin(reduced_index)]\n",
        "\n",
        "data = Dataset(reduced_data, reduced_train)\n",
        "dataloader = DataLoader(data, batch_size=32, shuffle=True)\n",
        "\n",
        "\n",
        "for idx, (img,lab1,lab2,lab3) in tqdm(enumerate(dataloader),total=len(dataloader)):\n",
        "    net.train()\n",
        "    optimizer.zero_grad()\n",
        "    outputs1,outputs2,outputs3 = net(img.unsqueeze(1).float())\n",
        "    loss1 = criterion(outputs1,lab1)\n",
        "    loss2 = criterion(outputs2,lab2)\n",
        "    loss3 = criterion(outputs3,lab3)\n",
        "    running_loss += loss1+loss2+loss3\n",
        "    \n",
        "    running_acc += (outputs1.argmax(1)==lab1).float().mean()\n",
        "    running_acc += (outputs2.argmax(1)==lab2).float().mean()\n",
        "    running_acc += (outputs3.argmax(1)==lab3).float().mean()\n",
        "    (loss1+loss2+loss3).backward()\n",
        "    optimizer.step()\n",
        "    \n",
        "print(running_loss/len(dataloader))\n",
        "print(running_acc/(len(dataloader)*3))  "
      ],
      "execution_count": 0,
      "outputs": [
        {
          "output_type": "stream",
          "text": [
            "100%|██████████| 202/202 [01:05<00:00,  3.07it/s]"
          ],
          "name": "stderr"
        },
        {
          "output_type": "stream",
          "text": [
            "tensor(201.8296, grad_fn=<DivBackward0>)\n",
            "tensor(0.2716)\n"
          ],
          "name": "stdout"
        },
        {
          "output_type": "stream",
          "text": [
            "\n"
          ],
          "name": "stderr"
        }
      ]
    },
    {
      "cell_type": "code",
      "metadata": {
        "id": "YG_4yBICTm4C",
        "colab_type": "code",
        "colab": {}
      },
      "source": [
        "class GraphemeDataset(Dataset):\n",
        "    def __init__(self,df,_type='train'):\n",
        "        self.df = df\n",
        "    def __len__(self):\n",
        "        return len(self.df)\n",
        "    def __getitem__(self,idx):\n",
        "        image = self.df.iloc[idx][1:].values.reshape(64,64).astype(float)\n",
        "        return image"
      ],
      "execution_count": 0,
      "outputs": []
    },
    {
      "cell_type": "code",
      "metadata": {
        "id": "VaVR-uTBTm4F",
        "colab_type": "code",
        "colab": {}
      },
      "source": [
        "import cv2\n",
        "def Resize(df,size=64):\n",
        "    resized = {} \n",
        "    df = df.set_index('image_id')\n",
        "    for i in tqdm(range(df.shape[0])):\n",
        "        image = cv2.resize(df.loc[df.index[i]].values.reshape(137,236),(size,size))\n",
        "        resized[df.index[i]] = image.reshape(-1)\n",
        "    resized = pd.DataFrame(resized).T.reset_index()\n",
        "    resized.columns = resized.columns.astype(str)\n",
        "    resized.rename(columns={'index':'image_id'},inplace=True)\n",
        "    return resized"
      ],
      "execution_count": 0,
      "outputs": []
    },
    {
      "cell_type": "code",
      "metadata": {
        "id": "jGDjkyhKTm4H",
        "colab_type": "code",
        "outputId": "01875b43-63fd-43c8-94d3-0a82ece4e979",
        "colab": {}
      },
      "source": [
        "net.eval()\n",
        "test_data = ['test_image_data_0.parquet','test_image_data_1.parquet','test_image_data_2.parquet','test_image_data_3.parquet']\n",
        "predictions = []\n",
        "batch_size=1\n",
        "for fname in test_data:\n",
        "    data = pd.read_parquet(f'/kaggle/input/bengaliai-cv19/{fname}')\n",
        "    data = Resize(data)\n",
        "    test_image = GraphemeDataset(data)\n",
        "    test_loader = torch.utils.data.DataLoader(test_image,batch_size=1,shuffle=False)\n",
        "    with torch.no_grad():\n",
        "        for idx, (inputs) in tqdm(enumerate(test_loader),total=len(test_loader)):      \n",
        "            \n",
        "            outputs1,outputs2,outputs3 = net(inputs.unsqueeze(1).float())\n",
        "            predictions.append(outputs3.argmax(1).cpu().detach().numpy())\n",
        "            predictions.append(outputs2.argmax(1).cpu().detach().numpy())\n",
        "            predictions.append(outputs1.argmax(1).cpu().detach().numpy())"
      ],
      "execution_count": 0,
      "outputs": [
        {
          "output_type": "stream",
          "text": [
            "100%|██████████| 3/3 [00:00<00:00, 183.30it/s]\n",
            "100%|██████████| 3/3 [00:00<00:00, 80.39it/s]\n",
            "100%|██████████| 3/3 [00:00<00:00, 976.93it/s]\n",
            "100%|██████████| 3/3 [00:00<00:00, 99.60it/s]\n",
            "100%|██████████| 3/3 [00:00<00:00, 1097.32it/s]\n",
            "100%|██████████| 3/3 [00:00<00:00, 97.18it/s]\n",
            "100%|██████████| 3/3 [00:00<00:00, 1009.22it/s]\n",
            "100%|██████████| 3/3 [00:00<00:00, 107.57it/s]\n"
          ],
          "name": "stderr"
        }
      ]
    },
    {
      "cell_type": "code",
      "metadata": {
        "id": "FIxFV-MyTm4J",
        "colab_type": "code",
        "colab": {}
      },
      "source": [
        "submission = pd.read_csv('/kaggle/input/bengaliai-cv19/sample_submission.csv')"
      ],
      "execution_count": 0,
      "outputs": []
    },
    {
      "cell_type": "code",
      "metadata": {
        "id": "AkPm4mlLTm4M",
        "colab_type": "code",
        "outputId": "c5331fdd-1a21-49a4-a999-33ce156c3b7c",
        "colab": {}
      },
      "source": [
        "submission.target = np.hstack(predictions)\n",
        "submission.head(10)"
      ],
      "execution_count": 0,
      "outputs": [
        {
          "output_type": "execute_result",
          "data": {
            "text/html": [
              "<div>\n",
              "<style scoped>\n",
              "    .dataframe tbody tr th:only-of-type {\n",
              "        vertical-align: middle;\n",
              "    }\n",
              "\n",
              "    .dataframe tbody tr th {\n",
              "        vertical-align: top;\n",
              "    }\n",
              "\n",
              "    .dataframe thead th {\n",
              "        text-align: right;\n",
              "    }\n",
              "</style>\n",
              "<table border=\"1\" class=\"dataframe\">\n",
              "  <thead>\n",
              "    <tr style=\"text-align: right;\">\n",
              "      <th></th>\n",
              "      <th>row_id</th>\n",
              "      <th>target</th>\n",
              "    </tr>\n",
              "  </thead>\n",
              "  <tbody>\n",
              "    <tr>\n",
              "      <th>0</th>\n",
              "      <td>Test_0_consonant_diacritic</td>\n",
              "      <td>0</td>\n",
              "    </tr>\n",
              "    <tr>\n",
              "      <th>1</th>\n",
              "      <td>Test_0_grapheme_root</td>\n",
              "      <td>0</td>\n",
              "    </tr>\n",
              "    <tr>\n",
              "      <th>2</th>\n",
              "      <td>Test_0_vowel_diacritic</td>\n",
              "      <td>133</td>\n",
              "    </tr>\n",
              "    <tr>\n",
              "      <th>3</th>\n",
              "      <td>Test_1_consonant_diacritic</td>\n",
              "      <td>0</td>\n",
              "    </tr>\n",
              "    <tr>\n",
              "      <th>4</th>\n",
              "      <td>Test_1_grapheme_root</td>\n",
              "      <td>0</td>\n",
              "    </tr>\n",
              "    <tr>\n",
              "      <th>5</th>\n",
              "      <td>Test_1_vowel_diacritic</td>\n",
              "      <td>133</td>\n",
              "    </tr>\n",
              "    <tr>\n",
              "      <th>6</th>\n",
              "      <td>Test_2_consonant_diacritic</td>\n",
              "      <td>0</td>\n",
              "    </tr>\n",
              "    <tr>\n",
              "      <th>7</th>\n",
              "      <td>Test_2_grapheme_root</td>\n",
              "      <td>0</td>\n",
              "    </tr>\n",
              "    <tr>\n",
              "      <th>8</th>\n",
              "      <td>Test_2_vowel_diacritic</td>\n",
              "      <td>133</td>\n",
              "    </tr>\n",
              "    <tr>\n",
              "      <th>9</th>\n",
              "      <td>Test_3_consonant_diacritic</td>\n",
              "      <td>0</td>\n",
              "    </tr>\n",
              "  </tbody>\n",
              "</table>\n",
              "</div>"
            ],
            "text/plain": [
              "                       row_id  target\n",
              "0  Test_0_consonant_diacritic       0\n",
              "1        Test_0_grapheme_root       0\n",
              "2      Test_0_vowel_diacritic     133\n",
              "3  Test_1_consonant_diacritic       0\n",
              "4        Test_1_grapheme_root       0\n",
              "5      Test_1_vowel_diacritic     133\n",
              "6  Test_2_consonant_diacritic       0\n",
              "7        Test_2_grapheme_root       0\n",
              "8      Test_2_vowel_diacritic     133\n",
              "9  Test_3_consonant_diacritic       0"
            ]
          },
          "metadata": {
            "tags": []
          },
          "execution_count": 16
        }
      ]
    },
    {
      "cell_type": "code",
      "metadata": {
        "id": "-GW19WfSTm4P",
        "colab_type": "code",
        "colab": {}
      },
      "source": [
        "submission.to_csv('submission.csv',index=False)"
      ],
      "execution_count": 0,
      "outputs": []
    },
    {
      "cell_type": "code",
      "metadata": {
        "id": "U47y2cfpTm4R",
        "colab_type": "code",
        "colab": {}
      },
      "source": [
        ""
      ],
      "execution_count": 0,
      "outputs": []
    },
    {
      "cell_type": "code",
      "metadata": {
        "id": "3o-jJAk-Tm4U",
        "colab_type": "code",
        "colab": {}
      },
      "source": [
        ""
      ],
      "execution_count": 0,
      "outputs": []
    }
  ]
}